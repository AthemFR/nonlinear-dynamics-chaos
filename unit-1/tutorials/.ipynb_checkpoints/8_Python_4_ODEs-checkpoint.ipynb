{
  "nbformat": 4,
  "nbformat_minor": 0,
  "metadata": {
    "colab": {
      "provenance": []
    },
    "kernelspec": {
      "name": "python3",
      "display_name": "Python 3"
    },
    "language_info": {
      "name": "python"
    }
  },
  "cells": [
    {
      "cell_type": "markdown",
      "source": [
        "# Solving ODEs in Python:\n",
        "\n",
        "1. Analytically (SymPy, https://www.sympy.org/en/index.html)\n",
        "\n",
        "2. Geometrically (Poincaré's view)\n",
        "\n",
        "3. Numerically (Numerical Methods: RK, Euler, etc.)\n",
        "\n",
        "To install sympy:\n",
        "\n",
        "``conda install sympy``\n",
        "\n",
        "``pip install sympy``\n",
        "\n",
        "## 1. Analytically solving ODEs with SymPy:\n",
        "\n",
        "### Example:\n",
        "\n",
        "We have this ODE:\n",
        "$$\\dot{x}= r\\,x $$"
      ],
      "metadata": {
        "id": "OXBBs3i3Nur6"
      }
    },
    {
      "cell_type": "code",
      "execution_count": 1,
      "metadata": {
        "id": "bZc1rY0ANoI7"
      },
      "outputs": [],
      "source": [
        "# Import libraries\n",
        "import sympy as sp\n",
        "\n",
        "# To see the outputs in latex format, we use:\n",
        "from sympy.interactive import printing\n",
        "printing.init_printing(use_latex = True)"
      ]
    },
    {
      "cell_type": "code",
      "source": [
        "# We define symbols\n",
        "t = sp.Symbol(\"t\")\n",
        "\n",
        "# For Function\n",
        "x = sp.Function(\"x\")(t)"
      ],
      "metadata": {
        "id": "B0zPFD5ePSXw"
      },
      "execution_count": 2,
      "outputs": []
    },
    {
      "cell_type": "code",
      "source": [
        "display(x)"
      ],
      "metadata": {
        "colab": {
          "base_uri": "https://localhost:8080/",
          "height": 39
        },
        "id": "scZ1gMo6Pf3F",
        "outputId": "2bf0f2bd-f49e-403e-d6fa-6e1c423e0640"
      },
      "execution_count": 3,
      "outputs": [
        {
          "output_type": "display_data",
          "data": {
            "text/plain": [
              "x(t)"
            ],
            "text/latex": "$\\displaystyle x{\\left(t \\right)}$"
          },
          "metadata": {}
        }
      ]
    },
    {
      "cell_type": "code",
      "source": [
        "# Define the LHS derivative\n",
        "der_x = x.diff(t, 1)\n",
        "\n",
        "display(der_x)"
      ],
      "metadata": {
        "colab": {
          "base_uri": "https://localhost:8080/",
          "height": 52
        },
        "id": "NR4OgOZlPufh",
        "outputId": "38036a8a-7d40-49b3-dfbf-736d5b93213e"
      },
      "execution_count": 4,
      "outputs": [
        {
          "output_type": "display_data",
          "data": {
            "text/plain": [
              "d       \n",
              "──(x(t))\n",
              "dt      "
            ],
            "text/latex": "$\\displaystyle \\frac{d}{d t} x{\\left(t \\right)}$"
          },
          "metadata": {}
        }
      ]
    },
    {
      "cell_type": "code",
      "source": [
        "# Fix r\n",
        "r = 1.\n",
        "\n",
        "# ODE\n",
        "diff_eq = sp.Eq(der_x - r*x, 0)\n",
        "\n",
        "display(diff_eq)"
      ],
      "metadata": {
        "colab": {
          "base_uri": "https://localhost:8080/",
          "height": 52
        },
        "id": "YqWOd9J6P54z",
        "outputId": "596ce833-f78d-4838-e740-d28f2a179ae1"
      },
      "execution_count": 5,
      "outputs": [
        {
          "output_type": "display_data",
          "data": {
            "text/plain": [
              "            d           \n",
              "-1.0⋅x(t) + ──(x(t)) = 0\n",
              "            dt          "
            ],
            "text/latex": "$\\displaystyle - 1.0 x{\\left(t \\right)} + \\frac{d}{d t} x{\\left(t \\right)} = 0$"
          },
          "metadata": {}
        }
      ]
    },
    {
      "cell_type": "code",
      "source": [
        "# Find the solution to the ODE:\n",
        "\n",
        "result_eq = sp.dsolve(diff_eq, x)\n",
        "\n",
        "display(result_eq)"
      ],
      "metadata": {
        "colab": {
          "base_uri": "https://localhost:8080/",
          "height": 39
        },
        "id": "Ey2O1oiSQIL5",
        "outputId": "2708081e-f55c-4baa-dc10-d7ad18dac06f"
      },
      "execution_count": 6,
      "outputs": [
        {
          "output_type": "display_data",
          "data": {
            "text/plain": [
              "           t\n",
              "x(t) = C₁⋅ℯ "
            ],
            "text/latex": "$\\displaystyle x{\\left(t \\right)} = C_{1} e^{t}$"
          },
          "metadata": {}
        }
      ]
    },
    {
      "cell_type": "code",
      "source": [
        "# With initial conditions\n",
        "\n",
        "result_eq1 = sp.dsolve(diff_eq, x, ics = {x.subs(t,0): 1})\n",
        "\n",
        "display(result_eq1)\n",
        "\n",
        "print(type(result_eq1))"
      ],
      "metadata": {
        "colab": {
          "base_uri": "https://localhost:8080/",
          "height": 56
        },
        "id": "l1gQW56IQYyO",
        "outputId": "c557fc44-9b33-4304-e3ce-6489d5cf39e3"
      },
      "execution_count": 7,
      "outputs": [
        {
          "output_type": "display_data",
          "data": {
            "text/plain": [
              "        t\n",
              "x(t) = ℯ "
            ],
            "text/latex": "$\\displaystyle x{\\left(t \\right)} = e^{t}$"
          },
          "metadata": {}
        },
        {
          "output_type": "stream",
          "name": "stdout",
          "text": [
            "<class 'sympy.core.relational.Equality'>\n"
          ]
        }
      ]
    },
    {
      "cell_type": "code",
      "source": [
        "# Lamdify the expression\n",
        "\n",
        "print(result_eq1.rhs)\n",
        "\n",
        "rhs = result_eq1.rhs\n",
        "\n",
        "# Function:\n",
        "x_function = sp.lambdify(t, rhs, \"numpy\")\n",
        "\n",
        "print(type(x_function))"
      ],
      "metadata": {
        "colab": {
          "base_uri": "https://localhost:8080/"
        },
        "id": "SBCvCHhsQvi9",
        "outputId": "0e493931-5225-452c-df9b-0ed0daa53a04"
      },
      "execution_count": 8,
      "outputs": [
        {
          "output_type": "stream",
          "name": "stdout",
          "text": [
            "exp(t)\n",
            "<class 'function'>\n"
          ]
        }
      ]
    },
    {
      "cell_type": "markdown",
      "source": [
        "### Plotting the solution:"
      ],
      "metadata": {
        "id": "VibYInN1TySi"
      }
    },
    {
      "cell_type": "code",
      "source": [
        "import numpy as np\n",
        "import matplotlib.pyplot as plt"
      ],
      "metadata": {
        "id": "3UXrWozpT1DE"
      },
      "execution_count": 9,
      "outputs": []
    },
    {
      "cell_type": "code",
      "source": [
        "# Generate a time vector\n",
        "t_vector = np.linspace(0., 20, 100)\n",
        "\n",
        "# Evaluate the lambified function\n",
        "x_vector = x_function(t_vector)\n",
        "\n",
        "print(t_vector.shape, x_vector.shape)"
      ],
      "metadata": {
        "colab": {
          "base_uri": "https://localhost:8080/"
        },
        "id": "9ha82D1eTUWn",
        "outputId": "4d0a4740-ae78-44de-a1e9-23408411aecc"
      },
      "execution_count": 10,
      "outputs": [
        {
          "output_type": "stream",
          "name": "stdout",
          "text": [
            "(100,) (100,)\n"
          ]
        }
      ]
    },
    {
      "cell_type": "code",
      "source": [
        "# Plotting\n",
        "\n",
        "plt.figure(figsize=(12,3))\n",
        "\n",
        "plt.plot(t_vector, x_vector)\n",
        "\n",
        "plt.xlabel(r\"$t$\")\n",
        "plt.ylabel(r\"$x(t)$\")\n",
        "\n",
        "plt.show()"
      ],
      "metadata": {
        "colab": {
          "base_uri": "https://localhost:8080/",
          "height": 326
        },
        "id": "D_T08ZDLUF-R",
        "outputId": "a3835848-b0a7-4ef1-c3e7-18cbd03d2607"
      },
      "execution_count": 11,
      "outputs": [
        {
          "output_type": "display_data",
          "data": {
            "text/plain": [
              "<Figure size 1200x300 with 1 Axes>"
            ],
            "image/png": "[encoded data removed]"
          },
          "metadata": {}
        }
      ]
    },
    {
      "cell_type": "markdown",
      "source": [
        "2. Geometrically (Poincaré's view)"
      ],
      "metadata": {
        "id": "VKfEtySdUuvP"
      }
    },
    {
      "cell_type": "code",
      "source": [
        "# Calculate the velocities:\n",
        "x_dot = x_vector*r"
      ],
      "metadata": {
        "id": "53n6kTxjUPmm"
      },
      "execution_count": 12,
      "outputs": []
    },
    {
      "cell_type": "code",
      "source": [
        "# Phase plot\n",
        "\n",
        "# Plotting\n",
        "\n",
        "plt.figure(figsize=(12,3))\n",
        "\n",
        "plt.plot(x_vector, x_dot)\n",
        "\n",
        "plt.xlabel(r\"$x(t)$\")\n",
        "plt.ylabel(r\"$\\dot{x}(t)$\")\n",
        "\n",
        "plt.show()"
      ],
      "metadata": {
        "colab": {
          "base_uri": "https://localhost:8080/",
          "height": 328
        },
        "id": "4gmP2l81U7Qm",
        "outputId": "cfca5c12-7109-4847-e8a3-ad8a4fe56a82"
      },
      "execution_count": 13,
      "outputs": [
        {
          "output_type": "display_data",
          "data": {
            "text/plain": [
              "<Figure size 1200x300 with 1 Axes>"
            ],
            "image/png": "[encoded data removed]"
          },
          "metadata": {}
        }
      ]
    },
    {
      "cell_type": "markdown",
      "source": [
        "### Example:\n",
        "\n",
        "We have this ODE:\n",
        "$$\\dot{x}=rx\\left(1-\\frac{x}{K}\\right)$$"
      ],
      "metadata": {
        "id": "jjuA8F5aVnWo"
      }
    },
    {
      "cell_type": "code",
      "source": [
        "# Fix the carrying capacity\n",
        "K = 1.e1\n",
        "\n",
        "# Non-linear ODE\n",
        "diff_eq2 = sp.Eq(der_x - r*x*(1.-x/K), 0)\n",
        "\n",
        "display(diff_eq2)"
      ],
      "metadata": {
        "colab": {
          "base_uri": "https://localhost:8080/",
          "height": 52
        },
        "id": "I0miydgAVA_O",
        "outputId": "e1c7a7b3-66a6-444b-9a3d-c319fc97e15a"
      },
      "execution_count": 14,
      "outputs": [
        {
          "output_type": "display_data",
          "data": {
            "text/plain": [
              "                             d           \n",
              "-1.0⋅(1.0 - 0.1⋅x(t))⋅x(t) + ──(x(t)) = 0\n",
              "                             dt          "
            ],
            "text/latex": "$\\displaystyle - 1.0 \\left(1.0 - 0.1 x{\\left(t \\right)}\\right) x{\\left(t \\right)} + \\frac{d}{d t} x{\\left(t \\right)} = 0$"
          },
          "metadata": {}
        }
      ]
    },
    {
      "cell_type": "code",
      "source": [
        "# With initial conditions\n",
        "\n",
        "result_eq2 = sp.dsolve(diff_eq2, x, ics = {x.subs(t,0): 1}, simplify = True)\n",
        "\n",
        "display(result_eq2)\n",
        "\n",
        "print(type(result_eq2))"
      ],
      "metadata": {
        "colab": {
          "base_uri": "https://localhost:8080/",
          "height": 70
        },
        "id": "BYNk5j1fWENs",
        "outputId": "9830c527-482f-41bf-ecd1-051660238c3f"
      },
      "execution_count": 15,
      "outputs": [
        {
          "output_type": "display_data",
          "data": {
            "text/plain": [
              "           -10.0     \n",
              "x(t) = ──────────────\n",
              "                   -t\n",
              "       -1.0 - 9.0⋅ℯ  "
            ],
            "text/latex": "$\\displaystyle x{\\left(t \\right)} = - \\frac{10.0}{-1.0 - 9.0 e^{- t}}$"
          },
          "metadata": {}
        },
        {
          "output_type": "stream",
          "name": "stdout",
          "text": [
            "<class 'sympy.core.relational.Equality'>\n"
          ]
        }
      ]
    },
    {
      "cell_type": "code",
      "source": [
        "# Lamdify the expression\n",
        "\n",
        "print(result_eq2.rhs)\n",
        "\n",
        "rhs2 = result_eq2.rhs\n",
        "\n",
        "# Function:\n",
        "x_function2 = sp.lambdify(t, rhs2, \"numpy\")\n",
        "\n",
        "print(type(x_function2))"
      ],
      "metadata": {
        "colab": {
          "base_uri": "https://localhost:8080/"
        },
        "id": "8RtaziVFWUKI",
        "outputId": "ec9df336-0cc2-4d3d-9413-9ab6d7bb40ca"
      },
      "execution_count": 16,
      "outputs": [
        {
          "output_type": "stream",
          "name": "stdout",
          "text": [
            "-10.0/(-1.0 - 9.0*exp(-t))\n",
            "<class 'function'>\n"
          ]
        }
      ]
    },
    {
      "cell_type": "code",
      "source": [
        "# Evaluate the lambified function\n",
        "x_vector2 = x_function2(t_vector)\n",
        "\n",
        "print(t_vector.shape, x_vector2.shape)"
      ],
      "metadata": {
        "colab": {
          "base_uri": "https://localhost:8080/"
        },
        "id": "I1BcSe6oWsMQ",
        "outputId": "76a37ed7-1d37-4751-cafb-c89e45997c0b"
      },
      "execution_count": 17,
      "outputs": [
        {
          "output_type": "stream",
          "name": "stdout",
          "text": [
            "(100,) (100,)\n"
          ]
        }
      ]
    },
    {
      "cell_type": "code",
      "source": [
        "# Plotting\n",
        "\n",
        "plt.figure(figsize=(12,3))\n",
        "\n",
        "plt.plot(t_vector, x_vector, color = \"blue\")\n",
        "plt.plot(t_vector, x_vector2, color = \"red\")\n",
        "\n",
        "\n",
        "plt.ylim(0., 30.)\n",
        "plt.xlabel(r\"$t$\")\n",
        "plt.ylabel(r\"$x(t)$\")\n",
        "\n",
        "plt.show()"
      ],
      "metadata": {
        "colab": {
          "base_uri": "https://localhost:8080/",
          "height": 336
        },
        "id": "btviNHatWj-8",
        "outputId": "af3719a0-b24e-45f3-e8b7-5631291325f7"
      },
      "execution_count": 19,
      "outputs": [
        {
          "output_type": "display_data",
          "data": {
            "text/plain": [
              "<Figure size 1200x300 with 1 Axes>"
            ],
            "image/png": "[encoded data removed]"
          },
          "metadata": {}
        }
      ]
    },
    {
      "cell_type": "markdown",
      "source": [
        "### Phase Space\n",
        "\n",
        "$$\\dot{x}=rx\\left(1-\\frac{x}{K}\\right)$$\n"
      ],
      "metadata": {
        "id": "aXHmUlvqXTB4"
      }
    },
    {
      "cell_type": "code",
      "source": [
        "# Define a lambda function for the velocity\n",
        "x_dot_fun = lambda x: r*x*(1-x/K)\n",
        "\n",
        "# Evaluate this in x\n",
        "x_dot2 = x_dot_fun(x_vector2)"
      ],
      "metadata": {
        "id": "ydsM38xgXWLn"
      },
      "execution_count": 22,
      "outputs": []
    },
    {
      "cell_type": "code",
      "source": [
        "# Phase plot\n",
        "\n",
        "# Plotting\n",
        "\n",
        "plt.figure(figsize=(12,3))\n",
        "\n",
        "plt.plot(x_vector, x_dot, color = \"blue\")\n",
        "plt.plot(x_vector2, x_dot2, color = \"red\")\n",
        "\n",
        "plt.xlabel(r\"$x(t)$\")\n",
        "plt.ylabel(r\"$\\dot{x}(t)$\")\n",
        "\n",
        "plt.xlim(0., 30.)\n",
        "plt.ylim(0., 30.)\n",
        "\n",
        "plt.show()"
      ],
      "metadata": {
        "colab": {
          "base_uri": "https://localhost:8080/",
          "height": 316
        },
        "id": "txAHYkDLXVUr",
        "outputId": "ec1aac4e-2642-40eb-ce85-41eba263a40d"
      },
      "execution_count": 24,
      "outputs": [
        {
          "output_type": "display_data",
          "data": {
            "text/plain": [
              "<Figure size 1200x300 with 1 Axes>"
            ],
            "image/png": "[encoded data removed]"
          },
          "metadata": {}
        }
      ]
    },
    {
      "cell_type": "code",
      "source": [],
      "metadata": {
        "id": "3wXkni-SWziP"
      },
      "execution_count": 18,
      "outputs": []
    }
  ]
}