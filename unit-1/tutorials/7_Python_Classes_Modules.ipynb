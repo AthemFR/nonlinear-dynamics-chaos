{
  "nbformat": 4,
  "nbformat_minor": 0,
  "metadata": {
    "colab": {
      "provenance": [],
      "authorship_tag": "ABX9TyNoB0x1pp4kPxrdUN+oIw5R",
      "include_colab_link": true
    },
    "kernelspec": {
      "name": "python3",
      "display_name": "Python 3"
    },
    "language_info": {
      "name": "python"
    }
  },
  "cells": [
    {
      "cell_type": "markdown",
      "metadata": {
        "id": "view-in-github",
        "colab_type": "text"
      },
      "source": [
        "<a href=\"https://colab.research.google.com/github/wbandabarragan/nonlinear-dynamics-chaos/blob/main/unit-1/tutorials/7_Python_Classes_Modules.ipynb\" target=\"_parent\"><img src=\"https://colab.research.google.com/assets/colab-badge.svg\" alt=\"Open In Colab\"/></a>"
      ]
    },
    {
      "cell_type": "markdown",
      "source": [
        "# Basics of Python classes\n",
        "\n",
        "We will use Python Classes to study a basic example on dynamics in 1D. The purpose of the code is to simulate the Newtonian motion of a particle movinf at constant acceleration.\n",
        "\n",
        "## Example: Kinematic Equations for Constant Acceleration\n",
        "\n",
        "We start from **Newton's second law** and assume motion of a particle of mass $m$ under a constant net force $F$ along one dimension.  \n",
        "\n",
        "$$F = ma$$\n",
        "\n",
        "For constant $F$ (constant acceleration $a$) we have\n",
        "\n",
        "$$a \\equiv \\frac{dv}{dt} = \\text{constant}$$\n",
        "\n",
        "## 1. Velocity as a function of time\n",
        "\n",
        "We integrate acceleration with respect to time, assuming $v_0$ be the velocity at $t=0$.\n",
        "\n",
        "$$\n",
        "\\frac{dv}{dt} = a \\quad\\Longrightarrow\\quad dv = a\\,dt\n",
        "$$\n",
        "\n",
        "Integrating from the initial time $0$ to time $t$:\n",
        "\n",
        "$$\n",
        "\\int_{v_0}^{v(t)} dv = \\int_{0}^{t} a\\,dt\n",
        "$$\n",
        "\n",
        "Because $a$ is constant:\n",
        "\n",
        "$$\n",
        "v - v_0 = a t\n",
        "$$\n",
        "\n",
        "So the velocity is\n",
        "\n",
        "$$\n",
        "\\boxed{v = v_0 + a t}\n",
        "$$\n",
        "\n",
        "## 2. Position as a function of time\n",
        "\n",
        "Velocity is the time derivative of position:\n",
        "\n",
        "$$\n",
        "\\frac{dx}{dt} = v = v_0 + a t\n",
        "$$\n",
        "\n",
        "Integrating from $t=0$ with $x(0)=x_0$:\n",
        "\n",
        "$$\n",
        "\\int_{x_0}^{x(t)} dx = \\int_{0}^{t} (v_0 + a t)\\,dt\n",
        "$$\n",
        "\n",
        "Evaluating:\n",
        "\n",
        "$$\n",
        "x - x_0 = v_0 t + \\tfrac{1}{2} a t^2\n",
        "$$\n",
        "\n",
        "Thus the position is\n",
        "\n",
        "$$\n",
        "\\boxed{x = x_0 + v_0 t + \\tfrac{1}{2} a t^2}\n",
        "$$\n",
        "\n",
        "## 3. Velocity–position relation\n",
        "\n",
        "Using the chain rule, we have:\n",
        "\n",
        "$$\n",
        "a = \\frac{dv}{dt} = \\frac{dv}{dx}\\frac{dx}{dt} = v\\frac{dv}{dx}\n",
        "$$\n",
        "\n",
        "Separating variables and integrating:\n",
        "\n",
        "$$\n",
        "\\int_{v_0}^{v} v\\,dv = \\int_{x_0}^{x} a\\,dx\n",
        "$$\n",
        "\n",
        "$$\n",
        "\\frac{1}{2}\\big(v^2 - v_0^2\\big) = a(x - x_0)\n",
        "$$\n",
        "\n",
        "And we have the other well known kinematic relation:\n",
        "\n",
        "$$\n",
        "\\boxed{v^2 = v_0^2 + 2a(x-x_0)}\n",
        "$$\n",
        "\n",
        "\n",
        "### 1. Creating class"
      ],
      "metadata": {
        "id": "UYayEJaGceQb"
      }
    },
    {
      "cell_type": "code",
      "source": [
        "# Import third-party libraries\n",
        "import numpy as np\n",
        "import matplotlib.pyplot as plt"
      ],
      "metadata": {
        "id": "Dr1pfJ7_EM5C"
      },
      "execution_count": 1,
      "outputs": []
    },
    {
      "cell_type": "code",
      "execution_count": 2,
      "metadata": {
        "id": "uhe8N7BkcWRn"
      },
      "outputs": [],
      "source": [
        "# Create class\n",
        "class Kinematics:\n",
        "  \"\"\"\n",
        "  \"\"\"\n",
        "  # Class attributes\n",
        "  author = \"WEBB\"\n",
        "  year   = \"2025\"\n"
      ]
    },
    {
      "cell_type": "code",
      "source": [
        "# Test by creating an instance\n",
        "tmp_obj = Kinematics()\n",
        "\n",
        "print(tmp_obj.author)\n",
        "print(tmp_obj.year)"
      ],
      "metadata": {
        "colab": {
          "base_uri": "https://localhost:8080/"
        },
        "id": "aPzhHdXldJ6-",
        "outputId": "4530fa57-e3d1-4c22-a2d9-dd03c99db054"
      },
      "execution_count": 3,
      "outputs": [
        {
          "output_type": "stream",
          "name": "stdout",
          "text": [
            "WEBB\n",
            "2025\n"
          ]
        }
      ]
    },
    {
      "cell_type": "markdown",
      "source": [
        "### 2. Add an init function (\"constructor\"):"
      ],
      "metadata": {
        "id": "STOjbSrbdhL9"
      }
    },
    {
      "cell_type": "code",
      "source": [
        "# Create class\n",
        "class Kinematics:\n",
        "  \"\"\"\n",
        "  \"\"\"\n",
        "  # Class attributes\n",
        "  author = \"WEBB\"\n",
        "  year   = \"2025\"\n",
        "\n",
        "  # Constructor: init function -> initial conditions\n",
        "  def __init__(self, pos = 0.0, vel = 0.0, acc = 0.0):\n",
        "    \"\"\"\n",
        "    \"\"\"\n",
        "    self.xpos = pos\n",
        "    self.xvel = vel\n",
        "    self.xacc = acc\n"
      ],
      "metadata": {
        "id": "QcVvafMddSD-"
      },
      "execution_count": 4,
      "outputs": []
    },
    {
      "cell_type": "code",
      "source": [
        "# Test by creating an instance\n",
        "tmp_obj2 = Kinematics(1., 2., 0.5)\n",
        "\n",
        "print(tmp_obj2.author)\n",
        "print(tmp_obj2.year)\n",
        "print(tmp_obj2.xpos)\n",
        "print(tmp_obj2.xvel)\n",
        "print(tmp_obj2.xacc)"
      ],
      "metadata": {
        "colab": {
          "base_uri": "https://localhost:8080/"
        },
        "id": "D9o5nOpFd6jV",
        "outputId": "6d2b13c7-c528-407f-9e76-babea3611b87"
      },
      "execution_count": 5,
      "outputs": [
        {
          "output_type": "stream",
          "name": "stdout",
          "text": [
            "WEBB\n",
            "2025\n",
            "1.0\n",
            "2.0\n",
            "0.5\n"
          ]
        }
      ]
    },
    {
      "cell_type": "markdown",
      "source": [
        "### 3. Add methods"
      ],
      "metadata": {
        "id": "vi2L0b8selZa"
      }
    },
    {
      "cell_type": "code",
      "source": [
        "# Create class\n",
        "class Kinematics:\n",
        "  \"\"\"\n",
        "  \"\"\"\n",
        "  # Class attributes\n",
        "  author = \"WEBB\"\n",
        "  year   = \"2025\"\n",
        "\n",
        "  # init function -> initial conditions\n",
        "  def __init__(self, pos = 0.0, vel = 0.0, acc = 0.0):\n",
        "    \"\"\"\n",
        "    \"\"\"\n",
        "    self.xpos = pos\n",
        "    self.xvel = vel\n",
        "    self.xacc = acc\n",
        "\n",
        "  # Add method to print the ICs\n",
        "  def print_ics(self):\n",
        "    \"\"\"\n",
        "    \"\"\"\n",
        "    print(\"Initial position:\", self.xpos)\n",
        "    print(\"Initial velocity:\", self.xvel)\n",
        "    print(\"Initial acceleration:\", self.xacc)\n"
      ],
      "metadata": {
        "id": "2t0GmGIsd91W"
      },
      "execution_count": 6,
      "outputs": []
    },
    {
      "cell_type": "code",
      "source": [
        "# Create new instance:\n",
        "\n",
        "tmp_obj3 = Kinematics()\n",
        "\n",
        "tmp_obj3.print_ics()"
      ],
      "metadata": {
        "colab": {
          "base_uri": "https://localhost:8080/"
        },
        "id": "12CGZv2Nezm1",
        "outputId": "858ea0a5-6b29-4a5d-878b-3b30090d6ff2"
      },
      "execution_count": 7,
      "outputs": [
        {
          "output_type": "stream",
          "name": "stdout",
          "text": [
            "Initial position: 0.0\n",
            "Initial velocity: 0.0\n",
            "Initial acceleration: 0.0\n"
          ]
        }
      ]
    },
    {
      "cell_type": "code",
      "source": [
        "# Create new instance:\n",
        "\n",
        "tmp_obj4 = Kinematics(3., 5., -0.6)\n",
        "\n",
        "tmp_obj4.print_ics()"
      ],
      "metadata": {
        "colab": {
          "base_uri": "https://localhost:8080/"
        },
        "id": "ndeH3GSNe8O6",
        "outputId": "86600ae0-3ea4-442b-b539-c9d7a5aec294"
      },
      "execution_count": 8,
      "outputs": [
        {
          "output_type": "stream",
          "name": "stdout",
          "text": [
            "Initial position: 3.0\n",
            "Initial velocity: 5.0\n",
            "Initial acceleration: -0.6\n"
          ]
        }
      ]
    },
    {
      "cell_type": "code",
      "source": [
        "# Examples:\n",
        "# np.min()\n",
        "# plt.plot()"
      ],
      "metadata": {
        "id": "owY46TPxfFPR"
      },
      "execution_count": 9,
      "outputs": []
    },
    {
      "cell_type": "markdown",
      "source": [
        "### 4. Add simulationmethods"
      ],
      "metadata": {
        "id": "Op4JjHno8LW0"
      }
    },
    {
      "cell_type": "code",
      "source": [
        "# Create class\n",
        "class Kinematics:\n",
        "  \"\"\"\n",
        "  \"\"\"\n",
        "  # Class attributes\n",
        "  author = \"WEBB\"\n",
        "  year   = \"2025\"\n",
        "\n",
        "  # init function -> initial conditions\n",
        "  def __init__(self, pos = 0.0, vel = 0.0, acc = 0.0):\n",
        "    \"\"\"\n",
        "    \"\"\"\n",
        "    self.xpos = pos\n",
        "    self.xvel = vel\n",
        "    self.xacc = acc\n",
        "\n",
        "  # Add method to print the ICs\n",
        "  def print_ics(self):\n",
        "    \"\"\"\n",
        "    \"\"\"\n",
        "    print(\"Initial position:\", self.xpos)\n",
        "    print(\"Initial velocity:\", self.xvel)\n",
        "    print(\"Initial acceleration:\", self.xacc)\n",
        "\n",
        "  # Add dynamical method\n",
        "  def calculate_dynamics(self, t):\n",
        "    \"\"\"\n",
        "    \"\"\"\n",
        "    # Update the position\n",
        "    self.xpos = self.xpos + self.xvel*t + 0.5*self.xacc*t**2\n",
        "\n",
        "    # Update the velocity\n",
        "    self.xvel = self.xvel + self.xacc*t\n",
        "\n",
        "    # Return\n",
        "    return self.xpos, self.xvel"
      ],
      "metadata": {
        "id": "mplbs-SV7-lE"
      },
      "execution_count": 10,
      "outputs": []
    },
    {
      "cell_type": "code",
      "source": [
        "# Create an instance\n",
        "sim_1 = Kinematics(0., 0., 1.)\n",
        "\n",
        "# Check ICs\n",
        "sim_1.print_ics()\n",
        "print(\"\\n\")\n",
        "\n",
        "# Calculate the updated position and velocity\n",
        "time = 10.\n",
        "\n",
        "# Call the dynamics method\n",
        "x_10, v_10 = sim_1.calculate_dynamics(time)\n",
        "\n",
        "print(\"The position at t=10 is: \", x_10)\n",
        "print(\"The velocity at t=10 is: \", v_10)"
      ],
      "metadata": {
        "colab": {
          "base_uri": "https://localhost:8080/"
        },
        "id": "EBMhtHrE9nzR",
        "outputId": "2dd7a7d5-429f-4146-b908-ec2c4aa3fa36"
      },
      "execution_count": 11,
      "outputs": [
        {
          "output_type": "stream",
          "name": "stdout",
          "text": [
            "Initial position: 0.0\n",
            "Initial velocity: 0.0\n",
            "Initial acceleration: 1.0\n",
            "\n",
            "\n",
            "The position at t=10 is:  50.0\n",
            "The velocity at t=10 is:  10.0\n"
          ]
        }
      ]
    },
    {
      "cell_type": "markdown",
      "source": [
        "### 5. Record the dynamical history:"
      ],
      "metadata": {
        "id": "EdODt-UV_PJW"
      }
    },
    {
      "cell_type": "code",
      "source": [
        "# Time vector\n",
        "t_vector = np.linspace(0., 20., 1000)\n",
        "#t_vector = np.arange(0., 20.+0.002, 0.002)\n",
        "\n",
        "# Evaluate in all times\n",
        "# Empty lists to store the history\n",
        "x_list = []\n",
        "v_list = []\n",
        "\n",
        "# Call the dynamics method\n",
        "for j in range(len(t_vector)):\n",
        "  #print(t_vector[j])\n",
        "  sim_1 = Kinematics(0., 0., 1.)\n",
        "  x_t, v_t = sim_1.calculate_dynamics(t_vector[j])\n",
        "\n",
        "  x_list.append(x_t)\n",
        "  v_list.append(v_t)\n",
        "\n",
        "# Convert from lists to arrays\n",
        "x_arr = np.array(x_list)\n",
        "v_arr = np.array(v_list)\n",
        "\n",
        "# Safe checks\n",
        "#print(x_arr, v_arr)\n",
        "#print(t_vector.shape, x_arr.shape, v_arr.shape)"
      ],
      "metadata": {
        "id": "5jyKV6A8988n"
      },
      "execution_count": 12,
      "outputs": []
    },
    {
      "cell_type": "markdown",
      "source": [
        "### 6. Make plots of the dynamics history:"
      ],
      "metadata": {
        "id": "hYn3n-Q5BHS_"
      }
    },
    {
      "cell_type": "code",
      "source": [
        "# Figure environment\n",
        "plt.figure(figsize=(12, 3))\n",
        "\n",
        "plt.plot(t_vector, x_arr, color = \"red\")\n",
        "\n",
        "plt.xlabel(r\"$t$\")\n",
        "plt.ylabel(r\"$x(t)$\")\n",
        "\n",
        "plt.title(\"Particle Position\")\n",
        "\n",
        "plt.xlim(t_vector[0],t_vector[-1])\n",
        "plt.ylim(0., 300)\n",
        "\n",
        "plt.show()\n"
      ],
      "metadata": {
        "colab": {
          "base_uri": "https://localhost:8080/",
          "height": 265
        },
        "id": "UIKQ5prD_7vF",
        "outputId": "f67368f2-7b64-417a-a39d-da71d00dc3b3"
      },
      "execution_count": 13,
      "outputs": [
        {
          "output_type": "display_data",
          "data": {
            "text/plain": [
              "<Figure size 1200x300 with 1 Axes>"
            ],
            "image/png": "[encoded data removed]"
          },
          "metadata": {}
        }
      ]
    },
    {
      "cell_type": "code",
      "source": [
        "# Figure environment\n",
        "plt.figure(figsize=(12, 3))\n",
        "\n",
        "plt.plot(t_vector, v_arr, color = \"green\")\n",
        "\n",
        "plt.xlabel(r\"$t$\")\n",
        "plt.ylabel(r\"$v_x(t)$\")\n",
        "\n",
        "plt.title(\"Particle Velocity\")\n",
        "\n",
        "plt.xlim(t_vector[0],t_vector[-1])\n",
        "plt.ylim(0.,30)\n",
        "\n",
        "plt.show()\n"
      ],
      "metadata": {
        "colab": {
          "base_uri": "https://localhost:8080/",
          "height": 353
        },
        "id": "M4SDhGIuBSGt",
        "outputId": "8d2a8e1b-6ce4-48e8-b3eb-3d76a4f90ce0"
      },
      "execution_count": 14,
      "outputs": [
        {
          "output_type": "display_data",
          "data": {
            "text/plain": [
              "<Figure size 1200x300 with 1 Axes>"
            ],
            "image/png": "[encoded data removed]"
          },
          "metadata": {}
        }
      ]
    },
    {
      "cell_type": "markdown",
      "source": [
        "### 7. Create a full routine:\n",
        "\n",
        "```python\n",
        "# Import third-party libraries\n",
        "import numpy as np\n",
        "import matplotlib.pyplot as plt\n",
        "\n",
        "# Create class\n",
        "class Kinematics:\n",
        "  \"\"\"\n",
        "  \"\"\"\n",
        "  # Class attributes\n",
        "  author = \"WEBB\"\n",
        "  year   = \"2025\"\n",
        "\n",
        "  # init function -> initial conditions\n",
        "  def __init__(self, pos = 0.0, vel = 0.0, acc = 0.0):\n",
        "    \"\"\"\n",
        "    \"\"\"\n",
        "    self.xpos = pos\n",
        "    self.xvel = vel\n",
        "    self.xacc = acc\n",
        "\n",
        "  # Add method to print the ICs\n",
        "  def print_ics(self):\n",
        "    \"\"\"\n",
        "    \"\"\"\n",
        "    print(\"Initial position:\", self.xpos)\n",
        "    print(\"Initial velocity:\", self.xvel)\n",
        "    print(\"Initial acceleration:\", self.xacc)\n",
        "\n",
        "  # Add dynamical method\n",
        "  def calculate_dynamics(self, t):\n",
        "    \"\"\"\n",
        "    \"\"\"\n",
        "    # Update the position\n",
        "    self.xpos = self.xpos + self.xvel*t + 0.5*self.xacc*t**2\n",
        "\n",
        "    # Update the velocity\n",
        "    self.xvel = self.xvel + self.xacc*t\n",
        "\n",
        "    # Return\n",
        "    return self.xpos, self.xvel\n",
        "\n",
        "# Routine for using the class automously\n",
        "if __name__ == \"__main__\":\n",
        "\n",
        "  # Create new instance:\n",
        "  tmp_obj4 = Kinematics(0., 0., 1.)\n",
        "  tmp_obj4.print_ics()\n",
        "\n",
        "  # Time vector\n",
        "  t_vector = np.linspace(0., 20., 1000)\n",
        "  #t_vector = np.arange(0., 20.+0.002, 0.002)\n",
        "\n",
        "  # Evaluate in all times\n",
        "  # Empty lists to store the history\n",
        "  x_list = []\n",
        "  v_list = []\n",
        "\n",
        "  # Call the dynamics method\n",
        "  for j in range(len(t_vector)):\n",
        "    #print(t_vector[j])\n",
        "    sim_1 = Kinematics(0., 0., 1.)\n",
        "    x_t, v_t = sim_1.calculate_dynamics(t_vector[j])\n",
        "\n",
        "    x_list.append(x_t)\n",
        "    v_list.append(v_t)\n",
        "\n",
        "  # Convert from lists to arrays\n",
        "  x_arr = np.array(x_list)\n",
        "  v_arr = np.array(v_list)\n",
        "\n",
        "  # Figure environment\n",
        "  plt.figure(figsize=(12, 3))\n",
        "\n",
        "  plt.plot(t_vector, x_arr, color = \"red\")\n",
        "\n",
        "  plt.xlabel(r\"$t$\")\n",
        "  plt.ylabel(r\"$x(t)$\")\n",
        "\n",
        "  plt.title(\"Particle Position\")\n",
        "\n",
        "  plt.xlim(t_vector[0],t_vector[-1])\n",
        "  plt.ylim(0., 300)\n",
        "\n",
        "  plt.savefig(\"./position.png\")\n",
        "  plt.close()\n",
        "\n",
        "  # Figure environment\n",
        "  plt.figure(figsize=(12, 3))\n",
        "\n",
        "  plt.plot(t_vector, v_arr, color = \"green\")\n",
        "\n",
        "  plt.xlabel(r\"$t$\")\n",
        "  plt.ylabel(r\"$v_x(t)$\")\n",
        "\n",
        "  plt.title(\"Particle Velocity\")\n",
        "\n",
        "  plt.xlim(t_vector[0],t_vector[-1])\n",
        "  plt.ylim(0.,30)\n",
        "\n",
        "  plt.savefig(\"./velocity.png\")\n",
        "  plt.close()\n",
        "```"
      ],
      "metadata": {
        "id": "0MBCLRD2EPm1"
      }
    }
  ]
}