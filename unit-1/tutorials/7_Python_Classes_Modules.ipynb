{
  "nbformat": 4,
  "nbformat_minor": 0,
  "metadata": {
    "colab": {
      "provenance": [],
      "authorship_tag": "ABX9TyMtdPfSw+e/8gBVJ8dwxiR0",
      "include_colab_link": true
    },
    "kernelspec": {
      "name": "python3",
      "display_name": "Python 3"
    },
    "language_info": {
      "name": "python"
    }
  },
  "cells": [
    {
      "cell_type": "markdown",
      "metadata": {
        "id": "view-in-github",
        "colab_type": "text"
      },
      "source": [
        "<a href=\"https://colab.research.google.com/github/wbandabarragan/nonlinear-dynamics-chaos/blob/main/unit-1/tutorials/7_Python_Classes_Modules.ipynb\" target=\"_parent\"><img src=\"https://colab.research.google.com/assets/colab-badge.svg\" alt=\"Open In Colab\"/></a>"
      ]
    },
    {
      "cell_type": "markdown",
      "source": [
        "# Basics of Python classes\n",
        "\n",
        "We will use Python Classes to study a basic example on dynamics in 1D. The purpose of the code is to simulate the Newtonian motion of a particle movinf at constant acceleration.\n",
        "\n",
        "## Example: Kinematic Equations for Constant Acceleration\n",
        "\n",
        "We start from **Newton's second law** and assume motion of a particle of mass $m$ under a constant net force $F$ along one dimension.  \n",
        "\n",
        "$$F = ma$$\n",
        "\n",
        "For constant $F$ (constant acceleration $a$) we have\n",
        "\n",
        "$$a \\equiv \\frac{dv}{dt} = \\text{constant}$$\n",
        "\n",
        "## 1. Velocity as a function of time\n",
        "\n",
        "We integrate acceleration with respect to time, assuming $v_0$ be the velocity at $t=0$.\n",
        "\n",
        "$$\n",
        "\\frac{dv}{dt} = a \\quad\\Longrightarrow\\quad dv = a\\,dt\n",
        "$$\n",
        "\n",
        "Integrating from the initial time $0$ to time $t$:\n",
        "\n",
        "$$\n",
        "\\int_{v_0}^{v(t)} dv = \\int_{0}^{t} a\\,dt\n",
        "$$\n",
        "\n",
        "Because $a$ is constant:\n",
        "\n",
        "$$\n",
        "v - v_0 = a t\n",
        "$$\n",
        "\n",
        "So the velocity is\n",
        "\n",
        "$$\n",
        "\\boxed{v = v_0 + a t}\n",
        "$$\n",
        "\n",
        "## 2. Position as a function of time\n",
        "\n",
        "Velocity is the time derivative of position:\n",
        "\n",
        "$$\n",
        "\\frac{dx}{dt} = v = v_0 + a t\n",
        "$$\n",
        "\n",
        "Integrating from $t=0$ with $x(0)=x_0$:\n",
        "\n",
        "$$\n",
        "\\int_{x_0}^{x(t)} dx = \\int_{0}^{t} (v_0 + a t)\\,dt\n",
        "$$\n",
        "\n",
        "Evaluating:\n",
        "\n",
        "$$\n",
        "x - x_0 = v_0 t + \\tfrac{1}{2} a t^2\n",
        "$$\n",
        "\n",
        "Thus the position is\n",
        "\n",
        "$$\n",
        "\\boxed{x = x_0 + v_0 t + \\tfrac{1}{2} a t^2}\n",
        "$$\n",
        "\n",
        "## 3. Velocity–position relation\n",
        "\n",
        "Using the chain rule, we have:\n",
        "\n",
        "$$\n",
        "a = \\frac{dv}{dt} = \\frac{dv}{dx}\\frac{dx}{dt} = v\\frac{dv}{dx}\n",
        "$$\n",
        "\n",
        "Separating variables and integrating:\n",
        "\n",
        "$$\n",
        "\\int_{v_0}^{v} v\\,dv = \\int_{x_0}^{x} a\\,dx\n",
        "$$\n",
        "\n",
        "$$\n",
        "\\frac{1}{2}\\big(v^2 - v_0^2\\big) = a(x - x_0)\n",
        "$$\n",
        "\n",
        "And we have the other well known kinematic relation:\n",
        "\n",
        "$$\n",
        "\\boxed{v^2 = v_0^2 + 2a(x-x_0)}\n",
        "$$\n",
        "\n",
        "\n",
        "### 1. Creating class"
      ],
      "metadata": {
        "id": "UYayEJaGceQb"
      }
    },
    {
      "cell_type": "code",
      "execution_count": null,
      "metadata": {
        "id": "uhe8N7BkcWRn"
      },
      "outputs": [],
      "source": [
        "# Create class\n",
        "class Kinematics:\n",
        "  \"\"\"\n",
        "  \"\"\"\n",
        "  # Class attributes\n",
        "  author = \"WEBB\"\n",
        "  year   = \"2025\"\n"
      ]
    },
    {
      "cell_type": "code",
      "source": [
        "# Test by creating an instance\n",
        "tmp_obj = Kinematics()\n",
        "\n",
        "print(tmp_obj.author)\n",
        "print(tmp_obj.year)"
      ],
      "metadata": {
        "colab": {
          "base_uri": "https://localhost:8080/"
        },
        "id": "aPzhHdXldJ6-",
        "outputId": "f482c725-a3b4-4e13-8b6d-21d918ad1d32"
      },
      "execution_count": null,
      "outputs": [
        {
          "output_type": "stream",
          "name": "stdout",
          "text": [
            "WEBB\n",
            "2025\n"
          ]
        }
      ]
    },
    {
      "cell_type": "markdown",
      "source": [
        "### 2. Add an init function:"
      ],
      "metadata": {
        "id": "STOjbSrbdhL9"
      }
    },
    {
      "cell_type": "code",
      "source": [
        "# Create class\n",
        "class Kinematics:\n",
        "  \"\"\"\n",
        "  \"\"\"\n",
        "  # Class attributes\n",
        "  author = \"WEBB\"\n",
        "  year   = \"2025\"\n",
        "\n",
        "  # init function -> initial conditions\n",
        "  def __init__(self, pos = 0.0, vel = 0.0, acc = 0.0):\n",
        "    \"\"\"\n",
        "    \"\"\"\n",
        "    self.xpos = pos\n",
        "    self.xvel = vel\n",
        "    self.xacc = acc\n"
      ],
      "metadata": {
        "id": "QcVvafMddSD-"
      },
      "execution_count": null,
      "outputs": []
    },
    {
      "cell_type": "code",
      "source": [
        "# Test by creating an instance\n",
        "tmp_obj2 = Kinematics(1., 2., 0.5)\n",
        "\n",
        "print(tmp_obj2.author)\n",
        "print(tmp_obj2.year)\n",
        "print(tmp_obj2.xpos)\n",
        "print(tmp_obj2.xvel)\n",
        "print(tmp_obj2.xacc)"
      ],
      "metadata": {
        "colab": {
          "base_uri": "https://localhost:8080/"
        },
        "id": "D9o5nOpFd6jV",
        "outputId": "dd7248ff-2eee-44d1-8bfb-39be4aa5508f"
      },
      "execution_count": null,
      "outputs": [
        {
          "output_type": "stream",
          "name": "stdout",
          "text": [
            "WEBB\n",
            "2025\n",
            "1.0\n",
            "2.0\n",
            "0.5\n"
          ]
        }
      ]
    },
    {
      "cell_type": "markdown",
      "source": [
        "### 3. Add methods"
      ],
      "metadata": {
        "id": "vi2L0b8selZa"
      }
    },
    {
      "cell_type": "code",
      "source": [
        "# Create class\n",
        "class Kinematics:\n",
        "  \"\"\"\n",
        "  \"\"\"\n",
        "  # Class attributes\n",
        "  author = \"WEBB\"\n",
        "  year   = \"2025\"\n",
        "\n",
        "  # init function -> initial conditions\n",
        "  def __init__(self, pos = 0.0, vel = 0.0, acc = 0.0):\n",
        "    \"\"\"\n",
        "    \"\"\"\n",
        "    self.xpos = pos\n",
        "    self.xvel = vel\n",
        "    self.xacc = acc\n",
        "\n",
        "  # Add method to print the ICs\n",
        "  def print_ics(self):\n",
        "    \"\"\"\n",
        "    \"\"\"\n",
        "    print(\"Initial position\", self.xpos)\n",
        "    print(\"Initial velocity\", self.xvel)\n",
        "    print(\"Initial acceleration\", self.xacc)\n",
        "\n"
      ],
      "metadata": {
        "id": "2t0GmGIsd91W"
      },
      "execution_count": null,
      "outputs": []
    },
    {
      "cell_type": "code",
      "source": [
        "# Create new instance:\n",
        "\n",
        "tmp_obj3 = Kinematics()\n",
        "\n",
        "tmp_obj3.print_ics()"
      ],
      "metadata": {
        "colab": {
          "base_uri": "https://localhost:8080/"
        },
        "id": "12CGZv2Nezm1",
        "outputId": "5ee0dfef-dd80-4df3-f46f-4e5717efe687"
      },
      "execution_count": null,
      "outputs": [
        {
          "output_type": "stream",
          "name": "stdout",
          "text": [
            "Initial position 0.0\n",
            "Initial velocity 0.0\n",
            "Initial acceleration 0.0\n"
          ]
        }
      ]
    },
    {
      "cell_type": "code",
      "source": [
        "# Create new instance:\n",
        "\n",
        "tmp_obj4 = Kinematics(3., 5., -0.6)\n",
        "\n",
        "tmp_obj4.print_ics()"
      ],
      "metadata": {
        "colab": {
          "base_uri": "https://localhost:8080/"
        },
        "id": "ndeH3GSNe8O6",
        "outputId": "77876774-b9ce-4589-b982-5be0a6cf7e7e"
      },
      "execution_count": null,
      "outputs": [
        {
          "output_type": "stream",
          "name": "stdout",
          "text": [
            "Initial position 3.0\n",
            "Initial velocity 5.0\n",
            "Initial acceleration -0.6\n"
          ]
        }
      ]
    },
    {
      "cell_type": "code",
      "source": [],
      "metadata": {
        "id": "owY46TPxfFPR"
      },
      "execution_count": null,
      "outputs": []
    }
  ]
}