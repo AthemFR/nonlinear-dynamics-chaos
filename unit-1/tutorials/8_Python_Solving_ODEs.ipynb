{
  "nbformat": 4,
  "nbformat_minor": 0,
  "metadata": {
    "colab": {
      "provenance": [],
      "authorship_tag": "ABX9TyOYbgG31Nj9Ei+ua+edqrxp",
      "include_colab_link": true
    },
    "kernelspec": {
      "name": "python3",
      "display_name": "Python 3"
    },
    "language_info": {
      "name": "python"
    }
  },
  "cells": [
    {
      "cell_type": "markdown",
      "metadata": {
        "id": "view-in-github",
        "colab_type": "text"
      },
      "source": [
        "<a href=\"https://colab.research.google.com/github/wbandabarragan/nonlinear-dynamics-chaos/blob/main/unit-1/tutorials/8_Python_Solving_ODEs.ipynb\" target=\"_parent\"><img src=\"https://colab.research.google.com/assets/colab-badge.svg\" alt=\"Open In Colab\"/></a>"
      ]
    },
    {
      "cell_type": "markdown",
      "source": [
        "# Solving ODEs in Python:\n",
        "\n",
        "1. Analytically (SymPy, https://www.sympy.org/en/index.html)\n",
        "\n",
        "2. Geometrically (Poincaré's view)\n",
        "\n",
        "3. Numerically (Numerical Methods: RK, Euler, etc.)\n",
        "\n",
        "To install sympy:\n",
        "\n",
        "``conda install sympy``\n",
        "\n",
        "``pip install sympy``\n",
        "\n",
        "## 1. Analytically solving ODEs with SymPy:\n",
        "\n",
        "### Example:\n",
        "\n",
        "We have this ODE:\n",
        "$$\\dot{x}= r\\,x $$"
      ],
      "metadata": {
        "id": "084QbryLZoPt"
      }
    },
    {
      "cell_type": "code",
      "execution_count": 1,
      "metadata": {
        "id": "tR-LbQZYZl8-"
      },
      "outputs": [],
      "source": [
        "# Import libraries\n",
        "import sympy as sp\n",
        "\n",
        "# To see the outputs in latex format, we use:\n",
        "from sympy.interactive import printing\n",
        "printing.init_printing(use_latex = True)"
      ]
    },
    {
      "cell_type": "code",
      "source": [
        "# We define symbols\n",
        "t = sp.Symbol(\"t\")\n",
        "\n",
        "# For Function\n",
        "x = sp.Function(\"x\")(t)"
      ],
      "metadata": {
        "id": "qmGNd3aWZyf1"
      },
      "execution_count": 2,
      "outputs": []
    },
    {
      "cell_type": "code",
      "source": [
        "display(x)"
      ],
      "metadata": {
        "colab": {
          "base_uri": "https://localhost:8080/",
          "height": 39
        },
        "id": "Ve0cyhdzZyrc",
        "outputId": "36bd72ca-18c6-4201-8e9a-d637ee07c647"
      },
      "execution_count": 3,
      "outputs": [
        {
          "output_type": "display_data",
          "data": {
            "text/plain": [
              "x(t)"
            ],
            "text/latex": "$\\displaystyle x{\\left(t \\right)}$"
          },
          "metadata": {}
        }
      ]
    },
    {
      "cell_type": "code",
      "source": [
        "# Define the LHS derivative\n",
        "der_x = x.diff(t, 1)\n",
        "\n",
        "display(der_x)"
      ],
      "metadata": {
        "colab": {
          "base_uri": "https://localhost:8080/",
          "height": 52
        },
        "id": "4coHPZCGZzws",
        "outputId": "e976ec74-32da-42be-929c-e66af9b6df62"
      },
      "execution_count": 4,
      "outputs": [
        {
          "output_type": "display_data",
          "data": {
            "text/plain": [
              "d       \n",
              "──(x(t))\n",
              "dt      "
            ],
            "text/latex": "$\\displaystyle \\frac{d}{d t} x{\\left(t \\right)}$"
          },
          "metadata": {}
        }
      ]
    },
    {
      "cell_type": "code",
      "source": [
        "# Fix r\n",
        "r = 1.\n",
        "\n",
        "# ODE\n",
        "diff_eq = sp.Eq(der_x - r*x, 0)\n",
        "\n",
        "display(diff_eq)"
      ],
      "metadata": {
        "colab": {
          "base_uri": "https://localhost:8080/",
          "height": 52
        },
        "id": "0R_GODUDZ1O4",
        "outputId": "4f82df8b-01a8-475e-ecb6-d4ec1119c79c"
      },
      "execution_count": 5,
      "outputs": [
        {
          "output_type": "display_data",
          "data": {
            "text/plain": [
              "            d           \n",
              "-1.0⋅x(t) + ──(x(t)) = 0\n",
              "            dt          "
            ],
            "text/latex": "$\\displaystyle - 1.0 x{\\left(t \\right)} + \\frac{d}{d t} x{\\left(t \\right)} = 0$"
          },
          "metadata": {}
        }
      ]
    },
    {
      "cell_type": "code",
      "source": [
        "# Find the solution to the ODE:\n",
        "\n",
        "result_eq = sp.dsolve(diff_eq, x)\n",
        "\n",
        "display(result_eq)"
      ],
      "metadata": {
        "colab": {
          "base_uri": "https://localhost:8080/",
          "height": 39
        },
        "id": "8SnjtSZhZ2kp",
        "outputId": "499931ed-8bbe-403d-86bb-f7da77881c03"
      },
      "execution_count": 6,
      "outputs": [
        {
          "output_type": "display_data",
          "data": {
            "text/plain": [
              "           t\n",
              "x(t) = C₁⋅ℯ "
            ],
            "text/latex": "$\\displaystyle x{\\left(t \\right)} = C_{1} e^{t}$"
          },
          "metadata": {}
        }
      ]
    },
    {
      "cell_type": "code",
      "source": [
        "# With initial conditions\n",
        "\n",
        "result_eq1 = sp.dsolve(diff_eq, x, ics = {x.subs(t,0): 1})\n",
        "\n",
        "display(result_eq1)\n",
        "\n",
        "print(type(result_eq1))"
      ],
      "metadata": {
        "colab": {
          "base_uri": "https://localhost:8080/",
          "height": 57
        },
        "id": "4TIivLKTZ4ZF",
        "outputId": "4cb87e99-1bf0-4500-c5a1-b9dcbb1b9275"
      },
      "execution_count": 7,
      "outputs": [
        {
          "output_type": "display_data",
          "data": {
            "text/plain": [
              "        t\n",
              "x(t) = ℯ "
            ],
            "text/latex": "$\\displaystyle x{\\left(t \\right)} = e^{t}$"
          },
          "metadata": {}
        },
        {
          "output_type": "stream",
          "name": "stdout",
          "text": [
            "<class 'sympy.core.relational.Equality'>\n"
          ]
        }
      ]
    },
    {
      "cell_type": "code",
      "source": [
        "# Lamdify the expression\n",
        "\n",
        "print(result_eq1.rhs)\n",
        "\n",
        "rhs = result_eq1.rhs\n",
        "\n",
        "# Function:\n",
        "x_function = sp.lambdify(t, rhs, \"numpy\")\n",
        "\n",
        "print(type(x_function))"
      ],
      "metadata": {
        "colab": {
          "base_uri": "https://localhost:8080/"
        },
        "id": "CL8X7oeoZ5ut",
        "outputId": "2454bdc2-4959-4afe-aeac-9bdc532986cc"
      },
      "execution_count": 8,
      "outputs": [
        {
          "output_type": "stream",
          "name": "stdout",
          "text": [
            "exp(t)\n",
            "<class 'function'>\n"
          ]
        }
      ]
    },
    {
      "cell_type": "markdown",
      "source": [
        "### Plotting the solution:"
      ],
      "metadata": {
        "id": "ZjP_oXrCZ8tE"
      }
    },
    {
      "cell_type": "code",
      "source": [
        "import numpy as np\n",
        "import matplotlib.pyplot as plt"
      ],
      "metadata": {
        "id": "oKohJcvrZ7K9"
      },
      "execution_count": 9,
      "outputs": []
    },
    {
      "cell_type": "code",
      "source": [
        "# Generate a time vector\n",
        "t_vector = np.linspace(0., 20, 100)\n",
        "\n",
        "# Evaluate the lambified function\n",
        "x_vector = x_function(t_vector)\n",
        "\n",
        "print(t_vector.shape, x_vector.shape)"
      ],
      "metadata": {
        "colab": {
          "base_uri": "https://localhost:8080/"
        },
        "id": "fMwhg1PTZ-PY",
        "outputId": "f0309278-92b0-4624-d6da-a60ba33c7fe5"
      },
      "execution_count": 10,
      "outputs": [
        {
          "output_type": "stream",
          "name": "stdout",
          "text": [
            "(100,) (100,)\n"
          ]
        }
      ]
    },
    {
      "cell_type": "code",
      "source": [
        "# Plotting\n",
        "\n",
        "plt.figure(figsize=(12,3))\n",
        "\n",
        "plt.plot(t_vector, x_vector)\n",
        "\n",
        "plt.xlabel(r\"$t$\")\n",
        "plt.ylabel(r\"$x(t)$\")\n",
        "\n",
        "plt.show()"
      ],
      "metadata": {
        "colab": {
          "base_uri": "https://localhost:8080/",
          "height": 326
        },
        "id": "37uiTTQtZ_Lt",
        "outputId": "4cb64430-02ef-4c36-a584-968424632002"
      },
      "execution_count": 11,
      "outputs": [
        {
          "output_type": "display_data",
          "data": {
            "text/plain": [
              "<Figure size 1200x300 with 1 Axes>"
            ],
            "image/png": "[encoded data removed]"
          },
          "metadata": {}
        }
      ]
    },
    {
      "cell_type": "markdown",
      "source": [
        "## 2. Geometrically (Poincaré's view)"
      ],
      "metadata": {
        "id": "6sODp8tBaCoa"
      }
    },
    {
      "cell_type": "code",
      "source": [
        "# Calculate the velocities:\n",
        "x_dot = x_vector*r"
      ],
      "metadata": {
        "id": "llF7LzYbaAgq"
      },
      "execution_count": 12,
      "outputs": []
    },
    {
      "cell_type": "code",
      "source": [
        "# Phase plot\n",
        "\n",
        "# Plotting\n",
        "\n",
        "plt.figure(figsize=(12,3))\n",
        "\n",
        "plt.plot(x_vector, x_dot)\n",
        "\n",
        "plt.xlabel(r\"$x(t)$\")\n",
        "plt.ylabel(r\"$\\dot{x}(t)$\")\n",
        "\n",
        "plt.show()"
      ],
      "metadata": {
        "colab": {
          "base_uri": "https://localhost:8080/",
          "height": 328
        },
        "id": "Pu63CpE4aD_B",
        "outputId": "559b652e-ae5a-4820-c2d4-d7930622c1be"
      },
      "execution_count": 13,
      "outputs": [
        {
          "output_type": "display_data",
          "data": {
            "text/plain": [
              "<Figure size 1200x300 with 1 Axes>"
            ],
            "image/png": "[encoded data removed]"
          },
          "metadata": {}
        }
      ]
    },
    {
      "cell_type": "code",
      "source": [],
      "metadata": {
        "id": "PReu-Y_WaFc-"
      },
      "execution_count": null,
      "outputs": []
    },
    {
      "cell_type": "markdown",
      "source": [
        "### Example:\n",
        "\n",
        "We have this ODE:\n",
        "$$\\dot{x}=rx\\left(1-\\frac{x}{K}\\right)$$"
      ],
      "metadata": {
        "id": "akDQAR7qaHho"
      }
    },
    {
      "cell_type": "code",
      "source": [
        "# Fix the carrying capacity\n",
        "K = 1.e1\n",
        "\n",
        "# Non-linear ODE\n",
        "diff_eq2 = sp.Eq(der_x - r*x*(1.-x/K), 0)\n",
        "\n",
        "display(diff_eq2)"
      ],
      "metadata": {
        "colab": {
          "base_uri": "https://localhost:8080/",
          "height": 52
        },
        "id": "zo6aTerqaHuW",
        "outputId": "0ede82c5-c1ec-42bf-b3cf-dbad71e406e8"
      },
      "execution_count": 14,
      "outputs": [
        {
          "output_type": "display_data",
          "data": {
            "text/plain": [
              "                             d           \n",
              "-1.0⋅(1.0 - 0.1⋅x(t))⋅x(t) + ──(x(t)) = 0\n",
              "                             dt          "
            ],
            "text/latex": "$\\displaystyle - 1.0 \\left(1.0 - 0.1 x{\\left(t \\right)}\\right) x{\\left(t \\right)} + \\frac{d}{d t} x{\\left(t \\right)} = 0$"
          },
          "metadata": {}
        }
      ]
    },
    {
      "cell_type": "code",
      "source": [
        "# With initial conditions\n",
        "\n",
        "result_eq2 = sp.dsolve(diff_eq2, x, ics = {x.subs(t,0): 1}, simplify = True)\n",
        "\n",
        "display(result_eq2)\n",
        "\n",
        "print(type(result_eq2))"
      ],
      "metadata": {
        "colab": {
          "base_uri": "https://localhost:8080/",
          "height": 70
        },
        "id": "haA9FAOMaI3n",
        "outputId": "4d313985-44d9-43e0-939e-461b36565560"
      },
      "execution_count": 15,
      "outputs": [
        {
          "output_type": "display_data",
          "data": {
            "text/plain": [
              "           -10.0     \n",
              "x(t) = ──────────────\n",
              "                   -t\n",
              "       -1.0 - 9.0⋅ℯ  "
            ],
            "text/latex": "$\\displaystyle x{\\left(t \\right)} = - \\frac{10.0}{-1.0 - 9.0 e^{- t}}$"
          },
          "metadata": {}
        },
        {
          "output_type": "stream",
          "name": "stdout",
          "text": [
            "<class 'sympy.core.relational.Equality'>\n"
          ]
        }
      ]
    },
    {
      "cell_type": "code",
      "source": [
        "# Lamdify the expression\n",
        "\n",
        "print(result_eq2.rhs)\n",
        "\n",
        "rhs2 = result_eq2.rhs\n",
        "\n",
        "# Function:\n",
        "x_function2 = sp.lambdify(t, rhs2, \"numpy\")\n",
        "\n",
        "print(type(x_function2))"
      ],
      "metadata": {
        "colab": {
          "base_uri": "https://localhost:8080/"
        },
        "id": "nbRSQq0KaKLM",
        "outputId": "30b37b7c-d55a-4780-aa74-19ba3ce551ee"
      },
      "execution_count": 16,
      "outputs": [
        {
          "output_type": "stream",
          "name": "stdout",
          "text": [
            "-10.0/(-1.0 - 9.0*exp(-t))\n",
            "<class 'function'>\n"
          ]
        }
      ]
    },
    {
      "cell_type": "code",
      "source": [
        "# Evaluate the lambified function\n",
        "x_vector2 = x_function2(t_vector)\n",
        "\n",
        "print(t_vector.shape, x_vector2.shape)"
      ],
      "metadata": {
        "colab": {
          "base_uri": "https://localhost:8080/"
        },
        "id": "2yU5l91RaNkM",
        "outputId": "e49fbc22-2c2e-48a0-948c-825685af3d4c"
      },
      "execution_count": 17,
      "outputs": [
        {
          "output_type": "stream",
          "name": "stdout",
          "text": [
            "(100,) (100,)\n"
          ]
        }
      ]
    },
    {
      "cell_type": "code",
      "source": [
        "# Plotting\n",
        "\n",
        "plt.figure(figsize=(12,3))\n",
        "\n",
        "plt.plot(t_vector, x_vector, color = \"blue\")\n",
        "plt.plot(t_vector, x_vector2, color = \"red\")\n",
        "\n",
        "\n",
        "plt.ylim(0., 30.)\n",
        "plt.xlabel(r\"$t$\")\n",
        "plt.ylabel(r\"$x(t)$\")\n",
        "\n",
        "plt.show()"
      ],
      "metadata": {
        "colab": {
          "base_uri": "https://localhost:8080/",
          "height": 316
        },
        "id": "VFsz4SoxaL_X",
        "outputId": "8f199f99-6fbf-4e31-8233-12300c520549"
      },
      "execution_count": 18,
      "outputs": [
        {
          "output_type": "display_data",
          "data": {
            "text/plain": [
              "<Figure size 1200x300 with 1 Axes>"
            ],
            "image/png": "[encoded data removed]"
          },
          "metadata": {}
        }
      ]
    },
    {
      "cell_type": "markdown",
      "source": [
        "### Phase Space\n",
        "\n",
        "$$\\dot{x}=rx\\left(1-\\frac{x}{K}\\right)$$\n"
      ],
      "metadata": {
        "id": "woJwbLfaaQy6"
      }
    },
    {
      "cell_type": "code",
      "source": [
        "# Define a lambda function for the velocity\n",
        "x_dot_fun = lambda x: r*x*(1-x/K)\n",
        "\n",
        "# Evaluate this in x\n",
        "x_dot2 = x_dot_fun(x_vector2)"
      ],
      "metadata": {
        "id": "U5f1g2WSaS7I"
      },
      "execution_count": 20,
      "outputs": []
    },
    {
      "cell_type": "code",
      "source": [
        "# Phase plot\n",
        "\n",
        "# Plotting\n",
        "\n",
        "plt.figure(figsize=(12,3))\n",
        "\n",
        "plt.plot(x_vector, x_dot, color = \"blue\")\n",
        "plt.plot(x_vector2, x_dot2, color = \"red\")\n",
        "\n",
        "plt.xlabel(r\"$x(t)$\")\n",
        "plt.ylabel(r\"$\\dot{x}(t)$\")\n",
        "\n",
        "plt.xlim(0., 11.)\n",
        "plt.ylim(0., 10.)\n",
        "\n",
        "plt.show()"
      ],
      "metadata": {
        "colab": {
          "base_uri": "https://localhost:8080/",
          "height": 318
        },
        "id": "ALTaNPE0aT33",
        "outputId": "cd27abea-b814-4f63-8a28-8e2d970d056a"
      },
      "execution_count": 21,
      "outputs": [
        {
          "output_type": "display_data",
          "data": {
            "text/plain": [
              "<Figure size 1200x300 with 1 Axes>"
            ],
            "image/png": "[encoded data removed]"
          },
          "metadata": {}
        }
      ]
    },
    {
      "cell_type": "code",
      "source": [
        "import numpy as np\n",
        "import matplotlib.pyplot as plt\n",
        "\n",
        "# Parameters\n",
        "r = 1.0         # growth rate\n",
        "x0 = 1.0        # initial condition\n",
        "t0, tf = 0.0, 5.0\n",
        "dt = 0.1        # time step\n",
        "\n",
        "# Time array\n",
        "t = np.arange(t0, tf + dt, dt)\n",
        "x = np.zeros_like(t)\n",
        "x[0] = x0\n",
        "\n",
        "# Function f(t, x) = r * x\n",
        "def f(t, x):\n",
        "    return r * x\n",
        "\n",
        "# RK3 integration loop\n",
        "for n in range(len(t)-1):\n",
        "    k1 = f(t[n], x[n])\n",
        "    k2 = f(t[n] + dt/2, x[n] + dt/2 * k1)\n",
        "    k3 = f(t[n] + dt, x[n] - dt * k1 + 2 * dt * k2)\n",
        "    x[n+1] = x[n] + dt * (k1 + 4*k2 + k3) / 6\n",
        "\n",
        "# Exact solution\n",
        "x_exact = x0 * np.exp(r * t)\n",
        "\n",
        "# Plot results\n",
        "plt.figure(figsize=(8,5))\n",
        "plt.plot(t, x, 'o-', label='RK3 numerical')\n",
        "plt.plot(t, x_exact, 'k--', label='Exact solution')\n",
        "plt.xlabel('t')\n",
        "plt.ylabel('x(t)')\n",
        "plt.title('Solution of dx/dt = r x using RK3')\n",
        "plt.legend()\n",
        "plt.grid(True)\n",
        "plt.show()\n"
      ],
      "metadata": {
        "colab": {
          "base_uri": "https://localhost:8080/",
          "height": 487
        },
        "id": "7nd2rU9maVf0",
        "outputId": "b8f022ed-4303-4bb3-baa1-7400846597e7"
      },
      "execution_count": 1,
      "outputs": [
        {
          "output_type": "display_data",
          "data": {
            "text/plain": [
              "<Figure size 800x500 with 1 Axes>"
            ],
            "image/png": "[encoded data removed]"
          },
          "metadata": {}
        }
      ]
    },
    {
      "cell_type": "code",
      "source": [],
      "metadata": {
        "id": "p7w7_U-2-9sv"
      },
      "execution_count": null,
      "outputs": []
    }
  ]
}