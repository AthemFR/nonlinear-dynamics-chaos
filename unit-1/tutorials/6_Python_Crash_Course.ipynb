{
  "nbformat": 4,
  "nbformat_minor": 0,
  "metadata": {
    "colab": {
      "provenance": [],
      "authorship_tag": "ABX9TyND9IO6x1pJTlVJqKA6R8sV",
      "include_colab_link": true
    },
    "kernelspec": {
      "name": "python3",
      "display_name": "Python 3"
    },
    "language_info": {
      "name": "python"
    }
  },
  "cells": [
    {
      "cell_type": "markdown",
      "metadata": {
        "id": "view-in-github",
        "colab_type": "text"
      },
      "source": [
        "<a href=\"https://colab.research.google.com/github/wbandabarragan/nonlinear-dynamics-chaos/blob/main/unit-1/tutorials/6_Python_Crash_Course.ipynb\" target=\"_parent\"><img src=\"https://colab.research.google.com/assets/colab-badge.svg\" alt=\"Open In Colab\"/></a>"
      ]
    },
    {
      "cell_type": "markdown",
      "source": [
        "# Tutorial: Python Crash Course\n",
        "\n",
        "## 1. Introduction to Python\n",
        "\n",
        "Everything is an object in python!\n",
        "\n",
        "- Native in-built function\n",
        "\n",
        "- Third-party functions\n"
      ],
      "metadata": {
        "id": "TpJpcZT5Tjd1"
      }
    },
    {
      "cell_type": "code",
      "execution_count": 2,
      "metadata": {
        "id": "Pu0Djyq0TbWC",
        "colab": {
          "base_uri": "https://localhost:8080/"
        },
        "outputId": "1d6f0d6c-5ed2-4181-8052-d577ba62ed80"
      },
      "outputs": [
        {
          "output_type": "stream",
          "name": "stdout",
          "text": [
            "<class 'builtin_function_or_method'> 5\n",
            "<class 'builtin_function_or_method'> 5\n"
          ]
        }
      ],
      "source": [
        "# Native (in-built) Python Functions\n",
        "print(type(abs), abs(-5))\n",
        "\n",
        "# abs() is an object: inheritance: obj inherits abs capabilities\n",
        "obj = abs\n",
        "\n",
        "print(type(obj), obj(-5))"
      ]
    },
    {
      "cell_type": "code",
      "source": [
        "# Third-party Funtions (we need to import)\n",
        "import numpy as np\n",
        "\n",
        "print(type(np.sin), np.sin(np.pi/2))\n",
        "\n",
        "# Python inheritance\n",
        "obj2 = np.sin\n",
        "\n",
        "print(type(obj2), obj2(np.pi/2))"
      ],
      "metadata": {
        "colab": {
          "base_uri": "https://localhost:8080/"
        },
        "id": "z4Wnr-JUUL_W",
        "outputId": "eac8e1f9-6ff2-4701-aeb8-8f302ca855ad"
      },
      "execution_count": 3,
      "outputs": [
        {
          "output_type": "stream",
          "name": "stdout",
          "text": [
            "<class 'numpy.ufunc'> 1.0\n",
            "<class 'numpy.ufunc'> 1.0\n"
          ]
        }
      ]
    },
    {
      "cell_type": "markdown",
      "source": [
        "## 2. Assignment Opetator (=) & Data types:"
      ],
      "metadata": {
        "id": "FG_W6rVPVMfS"
      }
    },
    {
      "cell_type": "code",
      "source": [
        "# Integers\n",
        "a = 10 # Assigning 10 to a\n",
        "\n",
        "print(type(10), type(a))\n",
        "\n",
        "# Floats\n",
        "b = 7.98\n",
        "print(type(7.98), type(b))\n",
        "\n",
        "# Arithmetics uses objects\n",
        "c = 2.*b + 3.\n",
        "\n",
        "print(type(c))"
      ],
      "metadata": {
        "colab": {
          "base_uri": "https://localhost:8080/"
        },
        "id": "MdH_9_rIUspT",
        "outputId": "5a5b388f-210f-4d10-cb72-837f93386602"
      },
      "execution_count": 5,
      "outputs": [
        {
          "output_type": "stream",
          "name": "stdout",
          "text": [
            "<class 'int'> <class 'int'>\n",
            "<class 'float'> <class 'float'>\n",
            "<class 'float'>\n"
          ]
        }
      ]
    },
    {
      "cell_type": "code",
      "source": [
        "# Concanate strings\n",
        "\n",
        "d = \"Non-linear Dynamics\"\n",
        "e = \"& Chaos\"\n",
        "\n",
        "f = d + e\n",
        "\n",
        "print(type(f))\n",
        "\n",
        "# Complex Numbers\n",
        "g = 7. + 10.j # j = sqrt(-1), sln to x^2 + 1 = 0\n",
        "\n",
        "print(type(g), g)"
      ],
      "metadata": {
        "colab": {
          "base_uri": "https://localhost:8080/"
        },
        "id": "e_PKQrWTvh90",
        "outputId": "ee4124d3-fb3f-43ac-cf33-ccfbbfa5b0da"
      },
      "execution_count": 6,
      "outputs": [
        {
          "output_type": "stream",
          "name": "stdout",
          "text": [
            "<class 'str'>\n",
            "<class 'complex'> (7+10j)\n"
          ]
        }
      ]
    },
    {
      "cell_type": "markdown",
      "source": [
        "# 3. Boolean operations"
      ],
      "metadata": {
        "id": "MDrFszGnWtSx"
      }
    },
    {
      "cell_type": "code",
      "source": [
        "# Comparing numbers\n",
        "\n",
        "x = 2.\n",
        "y = 5.\n",
        "\n",
        "# Comparing\n",
        "print(x == y)\n",
        "\n",
        "print(x <= y)\n",
        "\n",
        "print(x < y)\n",
        "\n",
        "print(x >= y)\n",
        "\n",
        "print(x > y)"
      ],
      "metadata": {
        "colab": {
          "base_uri": "https://localhost:8080/"
        },
        "id": "0gCkdqFIVfpl",
        "outputId": "8ee40094-7834-4280-b952-c69b33813f8c"
      },
      "execution_count": 7,
      "outputs": [
        {
          "output_type": "stream",
          "name": "stdout",
          "text": [
            "False\n",
            "True\n",
            "True\n",
            "False\n",
            "False\n"
          ]
        }
      ]
    },
    {
      "cell_type": "code",
      "source": [
        "# Logics: And, Or, Not\n",
        "\n",
        "print((1 and not 1) and (1 and 1))\n",
        "\n",
        "print((1 and not 1) or (1 and 1))\n",
        "\n",
        "print((4 > 3) + (3 > 2))"
      ],
      "metadata": {
        "colab": {
          "base_uri": "https://localhost:8080/"
        },
        "id": "8y0AHINMW_f8",
        "outputId": "9fbf3363-f674-4d5a-e9b2-ecce5d26536c"
      },
      "execution_count": 8,
      "outputs": [
        {
          "output_type": "stream",
          "name": "stdout",
          "text": [
            "False\n",
            "1\n",
            "2\n"
          ]
        }
      ]
    },
    {
      "cell_type": "markdown",
      "source": [
        "## 4. Variables:"
      ],
      "metadata": {
        "id": "sIQ5b5UfXpZ9"
      }
    },
    {
      "cell_type": "code",
      "source": [
        "# Asignment/ Object inheritance:\n",
        "x_1 = 3\n",
        "x_2 = 1.\n",
        "\n",
        "print(type(x_1), type(x_2))\n",
        "\n",
        "print(x_1//2, x_2/2)\n",
        "\n",
        "print(x_1**3)"
      ],
      "metadata": {
        "colab": {
          "base_uri": "https://localhost:8080/"
        },
        "id": "uvSi8NY6XQuE",
        "outputId": "8e6b0544-802e-4143-d585-4f19f967646e"
      },
      "execution_count": 10,
      "outputs": [
        {
          "output_type": "stream",
          "name": "stdout",
          "text": [
            "<class 'int'> <class 'float'>\n",
            "1 0.5\n",
            "27\n"
          ]
        }
      ]
    },
    {
      "cell_type": "markdown",
      "source": [
        "## 5. Data Structures:\n",
        "\n",
        "- Native: Strings, Lists, Tuples, Sets, Dictionaries\n",
        "\n",
        "- Third party: Numpy Arrays, Pandas Data Series/Frames"
      ],
      "metadata": {
        "id": "L1MTTXalYUow"
      }
    },
    {
      "cell_type": "markdown",
      "source": [
        "### 5.1. Strings"
      ],
      "metadata": {
        "id": "GdawmqMgvtqm"
      }
    },
    {
      "cell_type": "code",
      "source": [
        "# Native data structures\n",
        "\n",
        "f_name = \"data.00.txt\"\n",
        "\n",
        "e_empty = \" \"\n",
        "\n",
        "print(type(f_name), type(e_empty))\n",
        "\n",
        "# Use indexing with [] on strings\n",
        "\n",
        "print(f_name[1:4])\n"
      ],
      "metadata": {
        "colab": {
          "base_uri": "https://localhost:8080/"
        },
        "id": "eQCxhf0KXznz",
        "outputId": "945bbfbd-e21e-4ea9-cb96-d327310444f3"
      },
      "execution_count": 11,
      "outputs": [
        {
          "output_type": "stream",
          "name": "stdout",
          "text": [
            "<class 'str'> <class 'str'>\n",
            "ata\n"
          ]
        }
      ]
    },
    {
      "cell_type": "markdown",
      "source": [
        "### 5.2. Lists"
      ],
      "metadata": {
        "id": "cxqwNW5ivxD1"
      }
    },
    {
      "cell_type": "code",
      "source": [
        "# Lists: Mutable objects\n",
        "# Empty list\n",
        "d_list = []\n",
        "print(type(d_list), d_list)\n",
        "\n",
        "# Same object in memory\n",
        "d_list.append(0)\n",
        "print(type(d_list), d_list)\n"
      ],
      "metadata": {
        "colab": {
          "base_uri": "https://localhost:8080/"
        },
        "id": "mWD0rTsDYpgZ",
        "outputId": "62877b10-577c-4738-ffac-bf8378f470fd"
      },
      "execution_count": 12,
      "outputs": [
        {
          "output_type": "stream",
          "name": "stdout",
          "text": [
            "<class 'list'> []\n",
            "<class 'list'> [0]\n"
          ]
        }
      ]
    },
    {
      "cell_type": "markdown",
      "source": [
        "#### Methods within objects (lists): ``.append``"
      ],
      "metadata": {
        "id": "jF-NYZBDv99c"
      }
    },
    {
      "cell_type": "code",
      "source": [
        "# .append is a method within a list class\n",
        "d_list.append(10.)\n",
        "\n",
        "print(type(d_list), d_list)\n",
        "\n",
        "d_list.append(\"Hi\")\n",
        "\n",
        "print(type(d_list), d_list)\n",
        "\n",
        "# Indexing with lists\n",
        "\n",
        "print(d_list[2])\n",
        "\n",
        "# Operations with lists\n",
        "\n",
        "e_list = [1., 11., 21.]\n",
        "\n",
        "print(d_list + e_list)"
      ],
      "metadata": {
        "colab": {
          "base_uri": "https://localhost:8080/"
        },
        "id": "6ZJxBQixwF9f",
        "outputId": "ee4a23a0-97f9-4f4d-9d02-83efade26162"
      },
      "execution_count": 13,
      "outputs": [
        {
          "output_type": "stream",
          "name": "stdout",
          "text": [
            "<class 'list'> [0, 10.0]\n",
            "<class 'list'> [0, 10.0, 'Hi']\n",
            "Hi\n",
            "[0, 10.0, 'Hi', 1.0, 11.0, 21.0]\n"
          ]
        }
      ]
    },
    {
      "cell_type": "markdown",
      "source": [
        "### 5.3. Tuples"
      ],
      "metadata": {
        "id": "NNpw7p9dvzpH"
      }
    },
    {
      "cell_type": "code",
      "source": [
        "### Tuples: Immutable objects\n",
        "\n",
        "# 1st way\n",
        "\n",
        "a, b, c = 1., \"Hi\", [90.]\n",
        "\n",
        "(a, b, c) = 1., \"Hi\", [90.]"
      ],
      "metadata": {
        "id": "J_66Z1BvaHun"
      },
      "execution_count": 14,
      "outputs": []
    },
    {
      "cell_type": "markdown",
      "source": [
        "### 5.4. Sets"
      ],
      "metadata": {
        "id": "xvMdLcU-v2c6"
      }
    },
    {
      "cell_type": "code",
      "source": [
        "\n",
        "### Sets: {}\n",
        "\n",
        "z = {1., 4., 5, 6.}\n",
        "\n",
        "w = {1., 2., 3, 4.}\n",
        "\n",
        "# Operations\n",
        "print(z.union(w))\n",
        "\n",
        "print(z.intersection(w))"
      ],
      "metadata": {
        "colab": {
          "base_uri": "https://localhost:8080/"
        },
        "id": "_1CNcYFxabxs",
        "outputId": "ac10ff96-011d-4364-aba0-e8f94620410f"
      },
      "execution_count": 15,
      "outputs": [
        {
          "output_type": "stream",
          "name": "stdout",
          "text": [
            "{1.0, 2.0, 3, 4.0, 5, 6.0}\n",
            "{1.0, 4.0}\n"
          ]
        }
      ]
    },
    {
      "cell_type": "markdown",
      "source": [
        "### 5.5. Dictionaries"
      ],
      "metadata": {
        "id": "wMG5rflGv4jh"
      }
    },
    {
      "cell_type": "code",
      "source": [
        "## Dictionaries: DB blocks {\"key\": data, \"key\": data}\n",
        "\n",
        "dict_1 = {\"NLD\": [0,11,21,31], \"THP\": \"MScFF\", \"TFP\": 1, \"DML\": abs}\n",
        "\n",
        "# Indexing in dictionaries:\n",
        "print(dict_1[\"THP\"])\n",
        "\n",
        "print(dict_1[\"NLD\"])\n",
        "\n",
        "print(dict_1[\"DML\"])\n",
        "\n",
        "print(dict_1.keys())"
      ],
      "metadata": {
        "colab": {
          "base_uri": "https://localhost:8080/"
        },
        "id": "dnGtZtRPZIOA",
        "outputId": "3d28c719-994d-4bf4-8610-e240cce45f0a"
      },
      "execution_count": 78,
      "outputs": [
        {
          "output_type": "stream",
          "name": "stdout",
          "text": [
            "MScFF\n",
            "[0, 11, 21, 31]\n",
            "<built-in function abs>\n",
            "dict_keys(['NLD', 'THP', 'TFP', 'DML'])\n"
          ]
        }
      ]
    },
    {
      "cell_type": "markdown",
      "source": [
        "## 6. Python Functions\n",
        "\n",
        "- Lambda functions\n",
        "\n",
        "- Def/Return statement functions"
      ],
      "metadata": {
        "id": "VcP0uQtvbv-a"
      }
    },
    {
      "cell_type": "markdown",
      "source": [
        "### 6.1. ``lambda`` functions:\n",
        "\n",
        "Lambda functions are used for short statements that do not require def/return necessarily because they are too simple."
      ],
      "metadata": {
        "id": "m-I-_R4_wdMD"
      }
    },
    {
      "cell_type": "code",
      "source": [
        "# 1-line lambda functions\n",
        "\n",
        "f = lambda x: x**4\n",
        "\n",
        "print(type(f))"
      ],
      "metadata": {
        "colab": {
          "base_uri": "https://localhost:8080/"
        },
        "id": "9DtFtzk-bDoC",
        "outputId": "56c9ddb2-558c-4898-eabe-68ebd57fd843"
      },
      "execution_count": 21,
      "outputs": [
        {
          "output_type": "stream",
          "name": "stdout",
          "text": [
            "<class 'function'>\n"
          ]
        }
      ]
    },
    {
      "cell_type": "code",
      "source": [
        "# Plot the function\n",
        "\n",
        "# Generate x axis\n",
        "x = np.linspace(0., 10., 100)\n",
        "\n",
        "# Generate y axis (evaluating f)\n",
        "y = f(x)\n"
      ],
      "metadata": {
        "id": "6C7s0DbywQm1"
      },
      "execution_count": 22,
      "outputs": []
    },
    {
      "cell_type": "markdown",
      "source": [
        "## 7. Plotting functions:"
      ],
      "metadata": {
        "id": "mXHlQeOvvCfq"
      }
    },
    {
      "cell_type": "code",
      "source": [
        "import matplotlib.pyplot as plt"
      ],
      "metadata": {
        "id": "D6Tt9xFjcCFz"
      },
      "execution_count": 23,
      "outputs": []
    },
    {
      "cell_type": "code",
      "source": [
        "plt.figure()\n",
        "\n",
        "plt.plot(x, y)\n",
        "\n",
        "plt.show()"
      ],
      "metadata": {
        "colab": {
          "base_uri": "https://localhost:8080/",
          "height": 430
        },
        "id": "W06D1botcQlV",
        "outputId": "456d9dc4-b2e6-46ff-ef0b-d7ad4d6e3cd2"
      },
      "execution_count": 20,
      "outputs": [
        {
          "output_type": "display_data",
          "data": {
            "text/plain": [
              "<Figure size 640x480 with 1 Axes>"
            ],
            "image/png": "[encoded data removed]"
          },
          "metadata": {}
        }
      ]
    },
    {
      "cell_type": "code",
      "source": [],
      "metadata": {
        "id": "Zufjdft0cShF"
      },
      "execution_count": null,
      "outputs": []
    }
  ]
}