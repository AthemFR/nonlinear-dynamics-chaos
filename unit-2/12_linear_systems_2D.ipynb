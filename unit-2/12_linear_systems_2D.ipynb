{
 "cells": [
  {
   "cell_type": "markdown",
   "id": "fd4d05ff-a549-409a-8fa7-e8db6bf33312",
   "metadata": {},
   "source": [
    "# Linear Systems\n",
    "\n",
    "## Example: Simple harmonic oscillator\n",
    "\n",
    "The vibrations of a mass hanging from a spring are governed by the linear ODE:\n",
    "\n",
    "$$m\\ddot{x}+kx=0$$\n",
    "\n",
    "where $m$ is the mass, $k$ is the spring constant, and $x$ is the displacement of the mass.\n",
    "\n",
    "(a) Use SymPy to solve this ODE.\n",
    "\n",
    "(b) Provide a phase plane analysis of this simple harmonic oscillator."
   ]
  },
  {
   "cell_type": "markdown",
   "id": "e186e891-84c1-467a-b94d-bd80db1de918",
   "metadata": {},
   "source": [
    "#### (a) Use SymPy to solve this ODE."
   ]
  },
  {
   "cell_type": "markdown",
   "id": "f795fa4c-f6f5-495f-88a5-8b2ae944683e",
   "metadata": {},
   "source": [
    "#### (b) Provide a phase plane analysis of this simple harmonic oscillator.\n",
    "\n",
    "##### Original ODE:\n",
    "\n",
    "$m\\ddot{x}+kx=0$\n",
    "\n",
    "##### System of ODEs:\n",
    "\n",
    "$\\dot{x}=v$\n",
    "\n",
    "$\\dot{v}=-\\frac{k}{m}x=-\\omega^2x$\n"
   ]
  }
 ],
 "metadata": {
  "kernelspec": {
   "display_name": "Python 3 (ipykernel)",
   "language": "python",
   "name": "python3"
  },
  "language_info": {
   "codemirror_mode": {
    "name": "ipython",
    "version": 3
   },
   "file_extension": ".py",
   "mimetype": "text/x-python",
   "name": "python",
   "nbconvert_exporter": "python",
   "pygments_lexer": "ipython3",
   "version": "3.11.11"
  }
 },
 "nbformat": 4,
 "nbformat_minor": 5
}
