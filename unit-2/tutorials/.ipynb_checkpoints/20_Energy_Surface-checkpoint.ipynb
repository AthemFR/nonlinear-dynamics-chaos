{
 "cells": [
  {
   "cell_type": "markdown",
   "id": "95b1229c-3a40-431a-8fdf-b4a96f862aa0",
   "metadata": {},
   "source": [
    "# Energy surface:\n",
    "\n",
    "## Example:\n",
    "\n",
    "\\begin{align*}\n",
    "\\dot{x} &= y \\\\\n",
    "\\dot{y} &= x - x^3\n",
    "\\end{align*}\n",
    "\n",
    "Find the equilibrium points, the energy, and represent the energy surface."
   ]
  },
  {
   "cell_type": "markdown",
   "id": "a124e62a-9a4d-4621-b9e6-a7de1266319e",
   "metadata": {},
   "source": [
    "### Find the energy:\n",
    "\n",
    "\n",
    "This system is Hamiltonian with the energy function:\n",
    "\n",
    "$$H(x,y) = \\frac{1}{2}y^2 - \\frac{1}{2}x^2 + \\frac{1}{4}x^4$$\n",
    "\n",
    "where:\n",
    "\n",
    "* $\\frac{1}{2}y^2$ represents the kinetic energy\n",
    "\n",
    "* $-\\frac{1}{2}x^2 + \\frac{1}{4}x^4$ represents the potential energy $V(x)$\n",
    "\n",
    "\n",
    "Hamilton's equations give:\n",
    "\n",
    "$$\n",
    "\\dot{x} = \\frac{\\partial H}{\\partial y} = y, \\quad \n",
    "\\dot{y} = -\\frac{\\partial H}{\\partial x} = -(-x + x^3) = x - x^3\n",
    "$$\n",
    "\n",
    "which exactly matches the original system:\n",
    "\n",
    "$$\n",
    "\\begin{aligned}\n",
    "\\dot{x} &= y \\\\\n",
    "\\dot{y} &= x - x^3\n",
    "\\end{aligned}\n",
    "$$\n",
    "\n",
    "Since the Hamiltonian $H(x,y)$ is conserved ($\\frac{dH}{dt} = 0$), we have:\n",
    "\n",
    "$$\n",
    "E = \\frac{1}{2}y^2 - \\frac{1}{2}x^2 + \\frac{1}{4}x^4 = \\text{constant}\n",
    "$$\n"
   ]
  }
 ],
 "metadata": {
  "kernelspec": {
   "display_name": "Python 3 (ipykernel)",
   "language": "python",
   "name": "python3"
  },
  "language_info": {
   "codemirror_mode": {
    "name": "ipython",
    "version": 3
   },
   "file_extension": ".py",
   "mimetype": "text/x-python",
   "name": "python",
   "nbconvert_exporter": "python",
   "pygments_lexer": "ipython3",
   "version": "3.11.11"
  }
 },
 "nbformat": 4,
 "nbformat_minor": 5
}
