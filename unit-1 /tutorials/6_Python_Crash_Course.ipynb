{
  "nbformat": 4,
  "nbformat_minor": 0,
  "metadata": {
    "colab": {
      "provenance": [],
      "authorship_tag": "ABX9TyM4s5zqch5ilUML2nbNRZDb",
      "include_colab_link": true
    },
    "kernelspec": {
      "name": "python3",
      "display_name": "Python 3"
    },
    "language_info": {
      "name": "python"
    }
  },
  "cells": [
    {
      "cell_type": "markdown",
      "metadata": {
        "id": "view-in-github",
        "colab_type": "text"
      },
      "source": [
        "<a href=\"https://colab.research.google.com/github/wbandabarragan/nonlinear-dynamics-chaos/blob/main/unit-1%20/tutorials/6_Python_Crash_Course.ipynb\" target=\"_parent\"><img src=\"https://colab.research.google.com/assets/colab-badge.svg\" alt=\"Open In Colab\"/></a>"
      ]
    },
    {
      "cell_type": "markdown",
      "source": [
        "# Tutorial: Python Crash Course\n",
        "\n",
        "## 1. Introduction to Python\n",
        "\n",
        "Everything is an object in python!\n",
        "\n",
        "- Native in-built function\n",
        "\n",
        "- Third-party functions\n"
      ],
      "metadata": {
        "id": "TpJpcZT5Tjd1"
      }
    },
    {
      "cell_type": "code",
      "execution_count": 150,
      "metadata": {
        "id": "Pu0Djyq0TbWC",
        "colab": {
          "base_uri": "https://localhost:8080/"
        },
        "outputId": "0803d21f-fbd3-4035-9d20-87fa4804390f"
      },
      "outputs": [
        {
          "output_type": "stream",
          "name": "stdout",
          "text": [
            "<class 'builtin_function_or_method'> 5\n",
            "<class 'builtin_function_or_method'> 5\n"
          ]
        }
      ],
      "source": [
        "# Native (in-built) Python Functions\n",
        "print(type(abs), abs(-5))\n",
        "\n",
        "# abs() is an object: inheritance: obj inherits abs capabilities\n",
        "obj = abs\n",
        "\n",
        "print(type(obj), obj(-5))"
      ]
    },
    {
      "cell_type": "code",
      "source": [
        "# Third-party Funtions (we need to import)\n",
        "import numpy as np\n",
        "\n",
        "print(type(np.sin), np.sin(np.pi/2))\n",
        "\n",
        "# Python inheritance\n",
        "obj2 = np.sin\n",
        "\n",
        "print(type(obj2), obj2(np.pi/2))"
      ],
      "metadata": {
        "colab": {
          "base_uri": "https://localhost:8080/"
        },
        "id": "z4Wnr-JUUL_W",
        "outputId": "ffc6450c-f94f-425e-fb83-3d85a3447c75"
      },
      "execution_count": 151,
      "outputs": [
        {
          "output_type": "stream",
          "name": "stdout",
          "text": [
            "<class 'numpy.ufunc'> 1.0\n",
            "<class 'numpy.ufunc'> 1.0\n"
          ]
        }
      ]
    },
    {
      "cell_type": "markdown",
      "source": [
        "## 2. Assignment Opetator (=) & Data types:"
      ],
      "metadata": {
        "id": "FG_W6rVPVMfS"
      }
    },
    {
      "cell_type": "code",
      "source": [
        "# Integers\n",
        "a = 10 # Assigning 10 to a\n",
        "\n",
        "print(type(10), type(a))\n",
        "\n",
        "# Floats\n",
        "b = 7.98\n",
        "print(type(7.98), type(b))\n",
        "\n",
        "# Arithmetics uses objects\n",
        "c = 2.*b + 3.\n",
        "\n",
        "print(type(c))"
      ],
      "metadata": {
        "colab": {
          "base_uri": "https://localhost:8080/"
        },
        "id": "MdH_9_rIUspT",
        "outputId": "97d69bef-719a-4a1d-883d-f3cd657e0b07"
      },
      "execution_count": 152,
      "outputs": [
        {
          "output_type": "stream",
          "name": "stdout",
          "text": [
            "<class 'int'> <class 'int'>\n",
            "<class 'float'> <class 'float'>\n",
            "<class 'float'>\n"
          ]
        }
      ]
    },
    {
      "cell_type": "code",
      "source": [
        "# Concanate strings\n",
        "\n",
        "d = \"Non-linear Dynamics\"\n",
        "e = \"& Chaos\"\n",
        "\n",
        "f = d + e\n",
        "\n",
        "print(type(f))\n",
        "\n",
        "# Complex Numbers\n",
        "g = 7. + 10.j # j = sqrt(-1), sln to x^2 + 1 = 0\n",
        "\n",
        "print(type(g), g)"
      ],
      "metadata": {
        "colab": {
          "base_uri": "https://localhost:8080/"
        },
        "id": "e_PKQrWTvh90",
        "outputId": "2f3461b0-5122-40a0-d280-29c616c88f5e"
      },
      "execution_count": 153,
      "outputs": [
        {
          "output_type": "stream",
          "name": "stdout",
          "text": [
            "<class 'str'>\n",
            "<class 'complex'> (7+10j)\n"
          ]
        }
      ]
    },
    {
      "cell_type": "markdown",
      "source": [
        "# 3. Boolean operations"
      ],
      "metadata": {
        "id": "MDrFszGnWtSx"
      }
    },
    {
      "cell_type": "code",
      "source": [
        "# Comparing numbers\n",
        "\n",
        "x = 2.\n",
        "y = 5.\n",
        "\n",
        "# Comparing\n",
        "print(x == y)\n",
        "\n",
        "print(x <= y)\n",
        "\n",
        "print(x < y)\n",
        "\n",
        "print(x >= y)\n",
        "\n",
        "print(x > y)"
      ],
      "metadata": {
        "colab": {
          "base_uri": "https://localhost:8080/"
        },
        "id": "0gCkdqFIVfpl",
        "outputId": "276fcfcb-72c2-4d49-9163-89c64a616cb3"
      },
      "execution_count": 154,
      "outputs": [
        {
          "output_type": "stream",
          "name": "stdout",
          "text": [
            "False\n",
            "True\n",
            "True\n",
            "False\n",
            "False\n"
          ]
        }
      ]
    },
    {
      "cell_type": "code",
      "source": [
        "# Logics: And, Or, Not\n",
        "\n",
        "print((1 and not 1) and (1 and 1))\n",
        "\n",
        "print((1 and not 1) or (1 and 1))\n",
        "\n",
        "print((4 > 3) + (3 > 2))"
      ],
      "metadata": {
        "colab": {
          "base_uri": "https://localhost:8080/"
        },
        "id": "8y0AHINMW_f8",
        "outputId": "3f6bf095-319a-49b2-b407-ce6712470f4c"
      },
      "execution_count": 155,
      "outputs": [
        {
          "output_type": "stream",
          "name": "stdout",
          "text": [
            "False\n",
            "1\n",
            "2\n"
          ]
        }
      ]
    },
    {
      "cell_type": "markdown",
      "source": [
        "## 4. Variables:"
      ],
      "metadata": {
        "id": "sIQ5b5UfXpZ9"
      }
    },
    {
      "cell_type": "code",
      "source": [
        "# Asignment/ Object inheritance:\n",
        "x_1 = 3\n",
        "x_2 = 1.\n",
        "\n",
        "print(type(x_1), type(x_2))\n",
        "\n",
        "print(x_1//2, x_2/2)\n",
        "\n",
        "print(x_1**3)"
      ],
      "metadata": {
        "colab": {
          "base_uri": "https://localhost:8080/"
        },
        "id": "uvSi8NY6XQuE",
        "outputId": "dc687414-e876-4b6b-a8de-5eb5bc345e67"
      },
      "execution_count": 156,
      "outputs": [
        {
          "output_type": "stream",
          "name": "stdout",
          "text": [
            "<class 'int'> <class 'float'>\n",
            "1 0.5\n",
            "27\n"
          ]
        }
      ]
    },
    {
      "cell_type": "markdown",
      "source": [
        "## 5. Data Structures:\n",
        "\n",
        "- Native: Strings, Lists, Tuples, Sets, Dictionaries\n",
        "\n",
        "- Third party: Numpy Arrays, Pandas Data Series/Frames"
      ],
      "metadata": {
        "id": "L1MTTXalYUow"
      }
    },
    {
      "cell_type": "markdown",
      "source": [
        "### 5.1. Strings"
      ],
      "metadata": {
        "id": "GdawmqMgvtqm"
      }
    },
    {
      "cell_type": "code",
      "source": [
        "# Native data structures\n",
        "\n",
        "f_name = \"data.00.txt\"\n",
        "\n",
        "e_empty = \" \"\n",
        "\n",
        "print(type(f_name), type(e_empty))\n",
        "\n",
        "# Use indexing with [] on strings\n",
        "\n",
        "print(f_name[1:4])\n"
      ],
      "metadata": {
        "colab": {
          "base_uri": "https://localhost:8080/"
        },
        "id": "eQCxhf0KXznz",
        "outputId": "10316912-a29a-47d6-a447-bc7a674f97c5"
      },
      "execution_count": 157,
      "outputs": [
        {
          "output_type": "stream",
          "name": "stdout",
          "text": [
            "<class 'str'> <class 'str'>\n",
            "ata\n"
          ]
        }
      ]
    },
    {
      "cell_type": "markdown",
      "source": [
        "### 5.2. Lists"
      ],
      "metadata": {
        "id": "cxqwNW5ivxD1"
      }
    },
    {
      "cell_type": "code",
      "source": [
        "# Lists: Mutable objects\n",
        "# Empty list\n",
        "d_list = []\n",
        "print(type(d_list), d_list)\n",
        "\n",
        "# Same object in memory\n",
        "d_list.append(0)\n",
        "print(type(d_list), d_list)\n"
      ],
      "metadata": {
        "colab": {
          "base_uri": "https://localhost:8080/"
        },
        "id": "mWD0rTsDYpgZ",
        "outputId": "caf667f4-e684-4f46-f302-607ba3dd879d"
      },
      "execution_count": 158,
      "outputs": [
        {
          "output_type": "stream",
          "name": "stdout",
          "text": [
            "<class 'list'> []\n",
            "<class 'list'> [0]\n"
          ]
        }
      ]
    },
    {
      "cell_type": "markdown",
      "source": [
        "#### Methods within objects (lists): ``.append``"
      ],
      "metadata": {
        "id": "jF-NYZBDv99c"
      }
    },
    {
      "cell_type": "code",
      "source": [
        "# .append is a method within a list class\n",
        "d_list.append(10.)\n",
        "\n",
        "print(type(d_list), d_list)\n",
        "\n",
        "d_list.append(\"Hi\")\n",
        "\n",
        "print(type(d_list), d_list)\n",
        "\n",
        "# Indexing with lists\n",
        "\n",
        "print(d_list[2])\n",
        "\n",
        "# Operations with lists\n",
        "\n",
        "e_list = [1., 11., 21.]\n",
        "\n",
        "print(d_list + e_list)"
      ],
      "metadata": {
        "colab": {
          "base_uri": "https://localhost:8080/"
        },
        "id": "6ZJxBQixwF9f",
        "outputId": "fb108325-e402-4258-968c-8bf67733a8ab"
      },
      "execution_count": 159,
      "outputs": [
        {
          "output_type": "stream",
          "name": "stdout",
          "text": [
            "<class 'list'> [0, 10.0]\n",
            "<class 'list'> [0, 10.0, 'Hi']\n",
            "Hi\n",
            "[0, 10.0, 'Hi', 1.0, 11.0, 21.0]\n"
          ]
        }
      ]
    },
    {
      "cell_type": "markdown",
      "source": [
        "### 5.3. Tuples"
      ],
      "metadata": {
        "id": "NNpw7p9dvzpH"
      }
    },
    {
      "cell_type": "code",
      "source": [
        "### Tuples: Immutable objects\n",
        "\n",
        "# 1st way\n",
        "\n",
        "a, b, c = 1., \"Hi\", [90.]\n",
        "\n",
        "(a, b, c) = 1., \"Hi\", [90.]"
      ],
      "metadata": {
        "id": "J_66Z1BvaHun"
      },
      "execution_count": 160,
      "outputs": []
    },
    {
      "cell_type": "markdown",
      "source": [
        "### 5.4. Sets"
      ],
      "metadata": {
        "id": "xvMdLcU-v2c6"
      }
    },
    {
      "cell_type": "code",
      "source": [
        "\n",
        "### Sets: {}\n",
        "\n",
        "z = {1., 4., 5, 6.}\n",
        "\n",
        "w = {1., 2., 3, 4.}\n",
        "\n",
        "# Operations\n",
        "print(z.union(w))\n",
        "\n",
        "print(z.intersection(w))"
      ],
      "metadata": {
        "colab": {
          "base_uri": "https://localhost:8080/"
        },
        "id": "_1CNcYFxabxs",
        "outputId": "a435339e-2bd7-4dc0-daee-2256570babf4"
      },
      "execution_count": 161,
      "outputs": [
        {
          "output_type": "stream",
          "name": "stdout",
          "text": [
            "{1.0, 2.0, 3, 4.0, 5, 6.0}\n",
            "{1.0, 4.0}\n"
          ]
        }
      ]
    },
    {
      "cell_type": "markdown",
      "source": [
        "### 5.5. Dictionaries"
      ],
      "metadata": {
        "id": "wMG5rflGv4jh"
      }
    },
    {
      "cell_type": "code",
      "source": [
        "## Dictionaries: DB blocks {\"key\": data, \"key\": data}\n",
        "\n",
        "dict_1 = {\"NLD\": [0,11,21,31], \"THP\": \"MScFF\", \"TFP\": 1, \"DML\": abs}\n",
        "\n",
        "# Indexing in dictionaries:\n",
        "print(dict_1[\"THP\"])\n",
        "\n",
        "print(dict_1[\"NLD\"])\n",
        "\n",
        "print(dict_1[\"DML\"])\n",
        "\n",
        "print(dict_1.keys())"
      ],
      "metadata": {
        "colab": {
          "base_uri": "https://localhost:8080/"
        },
        "id": "dnGtZtRPZIOA",
        "outputId": "73947711-11e1-4a94-bdf0-9335657aa0b9"
      },
      "execution_count": 162,
      "outputs": [
        {
          "output_type": "stream",
          "name": "stdout",
          "text": [
            "MScFF\n",
            "[0, 11, 21, 31]\n",
            "<built-in function abs>\n",
            "dict_keys(['NLD', 'THP', 'TFP', 'DML'])\n"
          ]
        }
      ]
    },
    {
      "cell_type": "markdown",
      "source": [
        "### 5.6. NumPy Arrays:"
      ],
      "metadata": {
        "id": "VMTr0pzj3zKx"
      }
    },
    {
      "cell_type": "code",
      "source": [
        "import numpy as np"
      ],
      "metadata": {
        "id": "K1-pze9i32xL"
      },
      "execution_count": 163,
      "outputs": []
    },
    {
      "cell_type": "code",
      "source": [
        "# Create a native object in python\n",
        "list_a = [0., 2., 5., 7., 14., 33.]\n",
        "\n",
        "print(type(list_a), len(list_a))\n",
        "\n",
        "# Convert to np array -> Very important in physics/data science\n",
        "array_a = np.array(list_a)\n",
        "\n",
        "print(type(array_a), len(array_a))"
      ],
      "metadata": {
        "colab": {
          "base_uri": "https://localhost:8080/"
        },
        "id": "y5ky72pc342a",
        "outputId": "386c17ba-2230-4e98-a94c-076c8ae9760e"
      },
      "execution_count": 164,
      "outputs": [
        {
          "output_type": "stream",
          "name": "stdout",
          "text": [
            "<class 'list'> 6\n",
            "<class 'numpy.ndarray'> 6\n"
          ]
        }
      ]
    },
    {
      "cell_type": "markdown",
      "source": [
        "### 5.7 Pandas Data Series/Frames\n",
        "\n",
        "#### Pandas Organisation: https://pandas.pydata.org/"
      ],
      "metadata": {
        "id": "ePE79K794e4D"
      }
    },
    {
      "cell_type": "code",
      "source": [
        "import pandas as pd"
      ],
      "metadata": {
        "id": "TL6LqitM4oR3"
      },
      "execution_count": 165,
      "outputs": []
    },
    {
      "cell_type": "code",
      "source": [
        "# Pandas Data Series\n",
        "pd_1 = pd.Series(list_a)\n",
        "\n",
        "print(type(pd_1), len(pd_1))\n",
        "print(pd_1)\n",
        "print(pd_1[1])"
      ],
      "metadata": {
        "colab": {
          "base_uri": "https://localhost:8080/"
        },
        "id": "STkI3aNh40qA",
        "outputId": "321cc6bf-aa3b-43e6-e8c3-a740a7565b99"
      },
      "execution_count": 166,
      "outputs": [
        {
          "output_type": "stream",
          "name": "stdout",
          "text": [
            "<class 'pandas.core.series.Series'> 6\n",
            "0     0.0\n",
            "1     2.0\n",
            "2     5.0\n",
            "3     7.0\n",
            "4    14.0\n",
            "5    33.0\n",
            "dtype: float64\n",
            "2.0\n"
          ]
        }
      ]
    },
    {
      "cell_type": "code",
      "source": [
        "# Pandas Data Series\n",
        "pd_2 = pd.Series(list_a, index = [\"zeroth\", \"first\", \"second\", \"third\", \"fourth\", \"fifth\"])\n",
        "\n",
        "print(type(pd_2), len(pd_2))\n",
        "print(pd_2)\n",
        "print(pd_2[\"first\"])"
      ],
      "metadata": {
        "colab": {
          "base_uri": "https://localhost:8080/"
        },
        "id": "u4zefLOh7Ypu",
        "outputId": "82b7c6ce-4206-4b06-95f0-768908f7af3b"
      },
      "execution_count": 167,
      "outputs": [
        {
          "output_type": "stream",
          "name": "stdout",
          "text": [
            "<class 'pandas.core.series.Series'> 6\n",
            "zeroth     0.0\n",
            "first      2.0\n",
            "second     5.0\n",
            "third      7.0\n",
            "fourth    14.0\n",
            "fifth     33.0\n",
            "dtype: float64\n",
            "2.0\n"
          ]
        }
      ]
    },
    {
      "cell_type": "code",
      "source": [
        "# Pandas Data Frames (Excel spreadsheet)\n",
        "# Native dictionary\n",
        "my_courses = {\"Semester 1\": [\"NLD\", \"TPH\", \"RFP\", \"DML\"],\n",
        "              \"Scores\": [9.5, 9.6, 9.6, 9.8]}\n",
        "\n",
        "print(type(my_courses))\n",
        "\n",
        "# Convert to a data frame\n",
        "df_courses = pd.DataFrame(my_courses)\n",
        "\n",
        "print(type(df_courses))\n",
        "print(df_courses)\n",
        "print(\"\\n\")\n",
        "print(\"Locating by row:\\n\", df_courses.loc[3])\n",
        "print(\"\\n\")\n",
        "print(\"Locating by column:\\n\", df_courses[\"Scores\"])"
      ],
      "metadata": {
        "colab": {
          "base_uri": "https://localhost:8080/"
        },
        "id": "rSLwLd4940sm",
        "outputId": "b251af59-06ec-404c-c208-3d9b0d5c991b"
      },
      "execution_count": 168,
      "outputs": [
        {
          "output_type": "stream",
          "name": "stdout",
          "text": [
            "<class 'dict'>\n",
            "<class 'pandas.core.frame.DataFrame'>\n",
            "  Semester 1  Scores\n",
            "0        NLD     9.5\n",
            "1        TPH     9.6\n",
            "2        RFP     9.6\n",
            "3        DML     9.8\n",
            "\n",
            "\n",
            "Locating by row:\n",
            " Semester 1    DML\n",
            "Scores        9.8\n",
            "Name: 3, dtype: object\n",
            "\n",
            "\n",
            "Locating by column:\n",
            " 0    9.5\n",
            "1    9.6\n",
            "2    9.6\n",
            "3    9.8\n",
            "Name: Scores, dtype: float64\n"
          ]
        }
      ]
    },
    {
      "cell_type": "code",
      "source": [
        "# Pandas Data Frames (Excel spreadsheet)\n",
        "# Native dictionary\n",
        "my_courses2 = {\"Semester 1\": [\"NLD\", \"TPH\", \"RFP\", \"DML\"],\n",
        "              \"Scores\": [9.5, 9.6, 9.6, 9.8]}\n",
        "\n",
        "print(type(my_courses2))\n",
        "\n",
        "# Convert to a data frame\n",
        "df_courses2 = pd.DataFrame(my_courses2, index = [\"A\", \"B\", \"C\", \"D\"])\n",
        "\n",
        "print(type(df_courses2))\n",
        "print(df_courses2)\n",
        "print(\"\\n\")\n",
        "print(\"Locating by row:\\n\", df_courses2.loc[\"C\"])\n",
        "print(\"\\n\")\n",
        "print(\"Locating by column:\\n\", df_courses2[\"Scores\"])"
      ],
      "metadata": {
        "colab": {
          "base_uri": "https://localhost:8080/"
        },
        "id": "ko4IyYlV75Tv",
        "outputId": "594dca59-3b65-475d-d873-b5309cabd26d"
      },
      "execution_count": 169,
      "outputs": [
        {
          "output_type": "stream",
          "name": "stdout",
          "text": [
            "<class 'dict'>\n",
            "<class 'pandas.core.frame.DataFrame'>\n",
            "  Semester 1  Scores\n",
            "A        NLD     9.5\n",
            "B        TPH     9.6\n",
            "C        RFP     9.6\n",
            "D        DML     9.8\n",
            "\n",
            "\n",
            "Locating by row:\n",
            " Semester 1    RFP\n",
            "Scores        9.6\n",
            "Name: C, dtype: object\n",
            "\n",
            "\n",
            "Locating by column:\n",
            " A    9.5\n",
            "B    9.6\n",
            "C    9.6\n",
            "D    9.8\n",
            "Name: Scores, dtype: float64\n"
          ]
        }
      ]
    },
    {
      "cell_type": "markdown",
      "source": [
        "## 6. Python Functions\n",
        "\n",
        "- Lambda functions\n",
        "\n",
        "- Def/Return statement functions"
      ],
      "metadata": {
        "id": "VcP0uQtvbv-a"
      }
    },
    {
      "cell_type": "markdown",
      "source": [
        "### 6.1. ``lambda`` functions:\n",
        "\n",
        "Lambda functions are used for short statements that do not require def/return necessarily because they are too simple."
      ],
      "metadata": {
        "id": "m-I-_R4_wdMD"
      }
    },
    {
      "cell_type": "code",
      "source": [
        "# 1-line lambda functions\n",
        "\n",
        "f = lambda x: x**4\n",
        "\n",
        "print(type(f))"
      ],
      "metadata": {
        "colab": {
          "base_uri": "https://localhost:8080/"
        },
        "id": "9DtFtzk-bDoC",
        "outputId": "cda58243-00d1-4207-f90c-2e96b4eed11b"
      },
      "execution_count": 170,
      "outputs": [
        {
          "output_type": "stream",
          "name": "stdout",
          "text": [
            "<class 'function'>\n"
          ]
        }
      ]
    },
    {
      "cell_type": "code",
      "source": [
        "# Plot the function\n",
        "\n",
        "# Generate x axis\n",
        "x = np.linspace(0., 10., 100)\n",
        "\n",
        "# Generate y axis (evaluating f)\n",
        "y = f(x)\n"
      ],
      "metadata": {
        "id": "6C7s0DbywQm1"
      },
      "execution_count": 171,
      "outputs": []
    },
    {
      "cell_type": "markdown",
      "source": [
        "### 6.2. Def/Return statement functions"
      ],
      "metadata": {
        "id": "aYUjTTTA83PY"
      }
    },
    {
      "cell_type": "code",
      "source": [
        "# Create a function\n",
        "\n",
        "# Header\n",
        "def f_name(argument):\n",
        "  # Body needs to be indented\n",
        "  \"\"\"\n",
        "  Docstring: Indicate what the function does.\n",
        "  Author information\n",
        "  Dates in which the code was written.\n",
        "  \"\"\"\n",
        "  # Calculations with local variables\n",
        "  op_1 = argument*3.\n",
        "  op_2 = argument**2.\n",
        "\n",
        "  # Return statement -> tuples\n",
        "  return op_1, op_2"
      ],
      "metadata": {
        "id": "RiVr2VnX85Ps"
      },
      "execution_count": 172,
      "outputs": []
    },
    {
      "cell_type": "code",
      "source": [
        "help(f_name)"
      ],
      "metadata": {
        "colab": {
          "base_uri": "https://localhost:8080/"
        },
        "id": "GsMjqduE-gFS",
        "outputId": "40a0ce78-9fa0-492c-c07b-35afa2b7fda1"
      },
      "execution_count": 173,
      "outputs": [
        {
          "output_type": "stream",
          "name": "stdout",
          "text": [
            "Help on function f_name in module __main__:\n",
            "\n",
            "f_name(argument)\n",
            "    Docstring: Indicate what the function does.\n",
            "    Author information\n",
            "    Dates in which the code was written.\n",
            "\n"
          ]
        }
      ]
    },
    {
      "cell_type": "code",
      "source": [
        "#globals()\n",
        "#print(op_1)"
      ],
      "metadata": {
        "id": "axFlJ4VA-__A"
      },
      "execution_count": 174,
      "outputs": []
    },
    {
      "cell_type": "code",
      "source": [
        "# Fix argument\n",
        "z = 8. # z is called a global variable\n",
        "\n",
        "# Call function\n",
        "f_z1, f_z2 = f_name(z)\n",
        "\n",
        "print(f_z1, f_z2)\n",
        "\n",
        "# Call function without the second element in the tuple\n",
        "a, _ = f_name(z)\n",
        "\n",
        "print(f_z1, f_z2)\n",
        "\n",
        "print(a)"
      ],
      "metadata": {
        "colab": {
          "base_uri": "https://localhost:8080/"
        },
        "id": "asGz56EJ9mSD",
        "outputId": "b4a8c101-0eb6-4474-97c2-bbea444fe78b"
      },
      "execution_count": 175,
      "outputs": [
        {
          "output_type": "stream",
          "name": "stdout",
          "text": [
            "24.0 64.0\n",
            "24.0 64.0\n",
            "24.0\n"
          ]
        }
      ]
    },
    {
      "cell_type": "markdown",
      "source": [
        "### Vectorisation:"
      ],
      "metadata": {
        "id": "ki1cs-uH_pa8"
      }
    },
    {
      "cell_type": "code",
      "source": [
        "# Define a vector\n",
        "z_vector = np.arange(0., 10., 0.01)\n",
        "\n",
        "print(len(z_vector))\n",
        "\n",
        "# Evaluate the function in the vector\n",
        "f1_vector, f2_vector = f_name(z_vector)\n",
        "\n",
        "print(len(f1_vector), len(f2_vector))"
      ],
      "metadata": {
        "colab": {
          "base_uri": "https://localhost:8080/"
        },
        "id": "wwhzSXBm_epX",
        "outputId": "97538626-150c-4acd-9ef5-5e3a908e2003"
      },
      "execution_count": 176,
      "outputs": [
        {
          "output_type": "stream",
          "name": "stdout",
          "text": [
            "1000\n",
            "1000 1000\n"
          ]
        }
      ]
    },
    {
      "cell_type": "markdown",
      "source": [
        "## 7. Plotting functions:"
      ],
      "metadata": {
        "id": "mXHlQeOvvCfq"
      }
    },
    {
      "cell_type": "code",
      "source": [
        "import matplotlib.pyplot as plt"
      ],
      "metadata": {
        "id": "D6Tt9xFjcCFz"
      },
      "execution_count": 177,
      "outputs": []
    },
    {
      "cell_type": "code",
      "source": [
        "plt.figure(figsize=(8,3))\n",
        "\n",
        "plt.title(\"Polynomial Function\")\n",
        "plt.plot(x, y, color = \"magenta\", label = r\"$y=x^4$\")\n",
        "\n",
        "plt.xlabel(r\"$x$\")\n",
        "plt.ylabel(r\"$y$\")\n",
        "plt.legend(loc=4)\n",
        "\n",
        "plt.show()"
      ],
      "metadata": {
        "colab": {
          "base_uri": "https://localhost:8080/",
          "height": 333
        },
        "id": "W06D1botcQlV",
        "outputId": "eaf7d10a-c310-4a57-cdcc-eae77159d978"
      },
      "execution_count": 178,
      "outputs": [
        {
          "output_type": "display_data",
          "data": {
            "text/plain": [
              "<Figure size 800x300 with 1 Axes>"
            ],
            "image/png": "[encoded data removed]"
          },
          "metadata": {}
        }
      ]
    },
    {
      "cell_type": "code",
      "source": [
        "plt.figure(figsize=(8,3))\n",
        "\n",
        "plt.plot(z_vector, f1_vector, color = \"red\", label=r\"$f(z)=3z$\")\n",
        "plt.plot(z_vector, f2_vector, color = \"blue\", label=r\"$f(z)=z^2$\")\n",
        "\n",
        "plt.legend()\n",
        "\n",
        "plt.xlabel(r\"$z$\")\n",
        "plt.ylabel(r\"$f(z)$\")\n",
        "\n",
        "plt.show()"
      ],
      "metadata": {
        "colab": {
          "base_uri": "https://localhost:8080/",
          "height": 311
        },
        "id": "Wj7EDO8p_3-f",
        "outputId": "a70909ba-a773-482b-c842-a9c34b2325fa"
      },
      "execution_count": 179,
      "outputs": [
        {
          "output_type": "display_data",
          "data": {
            "text/plain": [
              "<Figure size 800x300 with 1 Axes>"
            ],
            "image/png": "[encoded data removed]"
          },
          "metadata": {}
        }
      ]
    },
    {
      "cell_type": "markdown",
      "source": [
        "## 8. Control Flow in Python\n",
        "\n",
        "\n",
        "### 8.1 Conditionals\n"
      ],
      "metadata": {
        "id": "NHPkqX3YBCN8"
      }
    },
    {
      "cell_type": "code",
      "source": [
        "# Define a variable\n",
        "x = 1.\n",
        "\n",
        "# If/Else Statement\n",
        "if x >= 9:\n",
        "  print(\"Value larger than 9.\")\n",
        "else:\n",
        "  print(\"Value is smaller.\")"
      ],
      "metadata": {
        "id": "Zufjdft0cShF",
        "colab": {
          "base_uri": "https://localhost:8080/"
        },
        "outputId": "d6e39c4e-5e64-4ce7-c7ac-6be61c1f6869"
      },
      "execution_count": 180,
      "outputs": [
        {
          "output_type": "stream",
          "name": "stdout",
          "text": [
            "Value is smaller.\n"
          ]
        }
      ]
    },
    {
      "cell_type": "code",
      "source": [
        "def double_check(v):\n",
        "  \"\"\"\n",
        "  \"\"\"\n",
        "  # If/Else Statement\n",
        "  if v >= 9:\n",
        "    return print(\"Value larger than 9.\")\n",
        "  else:\n",
        "    return print(\"Value is smaller.\")"
      ],
      "metadata": {
        "id": "JfSp3F4nGFRG"
      },
      "execution_count": 181,
      "outputs": []
    },
    {
      "cell_type": "code",
      "source": [
        "double_check(x)"
      ],
      "metadata": {
        "colab": {
          "base_uri": "https://localhost:8080/"
        },
        "id": "1uw1slAZGcuR",
        "outputId": "f8fcb9fb-96ce-4881-bd2c-2572df66669a"
      },
      "execution_count": 182,
      "outputs": [
        {
          "output_type": "stream",
          "name": "stdout",
          "text": [
            "Value is smaller.\n"
          ]
        }
      ]
    },
    {
      "cell_type": "markdown",
      "source": [
        "``np.where``\n",
        "\n",
        "Documentation: https://numpy.org/doc/stable/reference/generated/numpy.where.html"
      ],
      "metadata": {
        "id": "dqT73L3cBuXz"
      }
    },
    {
      "cell_type": "code",
      "source": [
        "# Using conditionals from numpy functions\n",
        "# Create a numpy array\n",
        "b = np.linspace(0., 1000, 10000)\n",
        "\n",
        "print(np.min(b), b)\n",
        "\n",
        "# Isolate numbers larger than 10 (via indexing)\n",
        "idx = np.where(b>10.) # Indices where the condition is met\n",
        "\n",
        "# Now we use the idx to get the numbers\n",
        "c = b[idx]\n",
        "\n",
        "print(np.min(c), c)"
      ],
      "metadata": {
        "colab": {
          "base_uri": "https://localhost:8080/"
        },
        "id": "SzIdRU_HBkxN",
        "outputId": "0ca32f48-6b00-4ff7-8d40-588b7ffbf58b"
      },
      "execution_count": 183,
      "outputs": [
        {
          "output_type": "stream",
          "name": "stdout",
          "text": [
            "0.0 [0.00000000e+00 1.00010001e-01 2.00020002e-01 ... 9.99799980e+02\n",
            " 9.99899990e+02 1.00000000e+03]\n",
            "10.00100010001 [  10.0010001   10.1010101   10.2010201 ...  999.79998    999.89999\n",
            " 1000.       ]\n"
          ]
        }
      ]
    },
    {
      "cell_type": "markdown",
      "source": [
        "### 8.2. For/While Loops"
      ],
      "metadata": {
        "id": "H8oAbiWSCt2d"
      }
    },
    {
      "cell_type": "code",
      "source": [
        "# Create an array\n",
        "d = np.linspace(-2*np.pi, +2*np.pi, 10)\n",
        "\n",
        "#print(d, len(d), d.size, d.shape)\n",
        "\n",
        "# For loop over the elements\n",
        "\n",
        "for j in range(len(d)):\n",
        "  #print(j)\n",
        "  print(d[j])\n"
      ],
      "metadata": {
        "colab": {
          "base_uri": "https://localhost:8080/"
        },
        "id": "_wDI9HQ3Bfg5",
        "outputId": "c4df2fdf-b00e-4058-ec12-c898929008eb"
      },
      "execution_count": 184,
      "outputs": [
        {
          "output_type": "stream",
          "name": "stdout",
          "text": [
            "-6.283185307179586\n",
            "-4.886921905584122\n",
            "-3.490658503988659\n",
            "-2.0943951023931957\n",
            "-0.6981317007977319\n",
            "0.6981317007977319\n",
            "2.094395102393195\n",
            "3.4906585039886586\n",
            "4.886921905584122\n",
            "6.283185307179586\n"
          ]
        }
      ]
    },
    {
      "cell_type": "code",
      "source": [
        "# Example on While Loops\n",
        "# Start a counter\n",
        "t = 1\n",
        "\n",
        "# Loop until a condition is met\n",
        "while t <= 10:\n",
        "  print(t)\n",
        "  t = t + 1"
      ],
      "metadata": {
        "colab": {
          "base_uri": "https://localhost:8080/"
        },
        "id": "Cx1z0wlTDFym",
        "outputId": "25feaa1c-fe79-49d7-aaa4-62d98271ce81"
      },
      "execution_count": 185,
      "outputs": [
        {
          "output_type": "stream",
          "name": "stdout",
          "text": [
            "1\n",
            "2\n",
            "3\n",
            "4\n",
            "5\n",
            "6\n",
            "7\n",
            "8\n",
            "9\n",
            "10\n"
          ]
        }
      ]
    },
    {
      "cell_type": "markdown",
      "source": [
        "### 8.3. Code Exceptions\n",
        "\n",
        "We use ``try``/``except`` statements/blocks."
      ],
      "metadata": {
        "id": "tYTvj54zEYRB"
      }
    },
    {
      "cell_type": "code",
      "source": [
        "# Example:\n",
        "#w = 1./0.\n",
        "# The above triggers a ZeroDivisionError\n",
        "\n",
        "#a = [0., 10., 12.]\n",
        "#print(a[3])\n",
        "\n",
        "# 2 arrays\n",
        "a1 = np.array([10., 100.])\n",
        "a2 = np.array([10., 0.])\n",
        "\n",
        "print(a1/a2)"
      ],
      "metadata": {
        "colab": {
          "base_uri": "https://localhost:8080/"
        },
        "id": "K_2LeWYmD38d",
        "outputId": "a156700b-d288-4708-bea8-713776b853f0"
      },
      "execution_count": 186,
      "outputs": [
        {
          "output_type": "stream",
          "name": "stdout",
          "text": [
            "[ 1. inf]\n"
          ]
        },
        {
          "output_type": "stream",
          "name": "stderr",
          "text": [
            "/tmp/ipython-input-516746663.py:12: RuntimeWarning: divide by zero encountered in divide\n",
            "  print(a1/a2)\n"
          ]
        }
      ]
    },
    {
      "cell_type": "code",
      "source": [
        "# Add an exception\n",
        "try:\n",
        "  # Here we write the possible problematic op.\n",
        "  w = 1./0.\n",
        "except ZeroDivisionError:\n",
        "  # Issue a warning\n",
        "  print(\"Careful, you are dividing by zero.\")\n",
        "  w = np.inf"
      ],
      "metadata": {
        "colab": {
          "base_uri": "https://localhost:8080/"
        },
        "id": "LPhhpVAYExOU",
        "outputId": "f0849996-a8fb-4126-980f-c31facd4300b"
      },
      "execution_count": 187,
      "outputs": [
        {
          "output_type": "stream",
          "name": "stdout",
          "text": [
            "Careful, you are dividing by zero.\n"
          ]
        }
      ]
    },
    {
      "cell_type": "code",
      "source": [
        "# Create a dictionary\n",
        "dict_1 = {\"k1\": 10., \"k2\": 100., \"k3\": 1000.}\n",
        "#print(dict_1[\"k4\"])\n",
        "\n",
        "# Add an exception\n",
        "try:\n",
        "  va = dict_1[\"k4\"]\n",
        "except KeyError:\n",
        "  print(\"Index not defined in the dict. Reverting to k3.\")\n",
        "  va = dict_1[\"k3\"]\n"
      ],
      "metadata": {
        "colab": {
          "base_uri": "https://localhost:8080/"
        },
        "id": "V3mc_jYlI5CZ",
        "outputId": "a1db656d-93fd-41ac-df2e-82419df543a0"
      },
      "execution_count": 188,
      "outputs": [
        {
          "output_type": "stream",
          "name": "stdout",
          "text": [
            "Index not defined in the dict. Reverting to k3.\n"
          ]
        }
      ]
    },
    {
      "cell_type": "markdown",
      "source": [
        "## 9. Python Scopes:\n",
        "\n",
        "- Local scope (within functions/ within classes)\n",
        "\n",
        "- Global scope (general variable)"
      ],
      "metadata": {
        "id": "9eURtJTdFoRM"
      }
    },
    {
      "cell_type": "code",
      "source": [
        "# Example of a global variable\n",
        "data = \"file_000.txt\"\n",
        "\n",
        "print(data)\n",
        "\n",
        "# To check what is in memory\n",
        "#%whos"
      ],
      "metadata": {
        "colab": {
          "base_uri": "https://localhost:8080/"
        },
        "id": "pH6yGPbUFTWD",
        "outputId": "7d2849e3-6e3a-42b3-993c-dcd49c4dd183"
      },
      "execution_count": 200,
      "outputs": [
        {
          "output_type": "stream",
          "name": "stdout",
          "text": [
            "file_000.txt\n"
          ]
        }
      ]
    },
    {
      "cell_type": "code",
      "source": [
        "# Define a function with a local variable\n",
        "\n",
        "def read_data():\n",
        "  \"\"\"\n",
        "  \"\"\"\n",
        "  # Local scope\n",
        "  data_1 = \"file_001.dat\""
      ],
      "metadata": {
        "id": "kUmKYth4K37n"
      },
      "execution_count": 201,
      "outputs": []
    },
    {
      "cell_type": "code",
      "source": [
        "# Call the function\n",
        "read_data()\n",
        "\n",
        "#print(data_1) # This gives us an error"
      ],
      "metadata": {
        "id": "cO7gS-sbL-C3"
      },
      "execution_count": 209,
      "outputs": []
    },
    {
      "cell_type": "code",
      "source": [
        "# Nested function\n",
        "\n",
        "def read_data2():\n",
        "  \"\"\"\n",
        "  \"\"\"\n",
        "  # Local scope/argument\n",
        "  data_1 = \"file_001.dat\"\n",
        "\n",
        "  # Nested method function is acting on the argument\n",
        "  def read_nested():\n",
        "    print(data_1)\n",
        "\n",
        "  # Call the nested function\n",
        "  read_nested()"
      ],
      "metadata": {
        "id": "EBSmaBXSLBem"
      },
      "execution_count": 207,
      "outputs": []
    },
    {
      "cell_type": "code",
      "source": [
        "read_data2()"
      ],
      "metadata": {
        "colab": {
          "base_uri": "https://localhost:8080/"
        },
        "id": "FziRVxoYL1Wk",
        "outputId": "76c15076-96f2-4986-e01c-af8f2ca5d9fc"
      },
      "execution_count": 208,
      "outputs": [
        {
          "output_type": "stream",
          "name": "stdout",
          "text": [
            "file_001.dat\n"
          ]
        }
      ]
    },
    {
      "cell_type": "code",
      "source": [
        "# Define a global variable\n",
        "g = \"Newton gravity\"\n",
        "\n",
        "def f_gravity():\n",
        "  g = \"Einstein gravity\"\n",
        "  print(g)"
      ],
      "metadata": {
        "id": "k43GriebMV7T"
      },
      "execution_count": 210,
      "outputs": []
    },
    {
      "cell_type": "code",
      "source": [
        "f_gravity()"
      ],
      "metadata": {
        "colab": {
          "base_uri": "https://localhost:8080/"
        },
        "id": "q9oJWWgvNqfJ",
        "outputId": "a96a6223-402f-4a2e-9ef3-e35cf79d5492"
      },
      "execution_count": 211,
      "outputs": [
        {
          "output_type": "stream",
          "name": "stdout",
          "text": [
            "Einstein gravity\n"
          ]
        }
      ]
    },
    {
      "cell_type": "code",
      "source": [
        "print(g)"
      ],
      "metadata": {
        "colab": {
          "base_uri": "https://localhost:8080/"
        },
        "id": "pzmWin9DNruA",
        "outputId": "4c69356b-1ea9-4df1-987f-56908b61d35a"
      },
      "execution_count": 212,
      "outputs": [
        {
          "output_type": "stream",
          "name": "stdout",
          "text": [
            "Newton gravity\n"
          ]
        }
      ]
    },
    {
      "cell_type": "code",
      "source": [
        "# Convert a local variable to a global\n",
        "\n",
        "def f_gravity():\n",
        "\n",
        "  global g\n",
        "  g = \"Einstein gravity\"\n",
        "  print(g)"
      ],
      "metadata": {
        "id": "PiVYtbu3NvUp"
      },
      "execution_count": 213,
      "outputs": []
    },
    {
      "cell_type": "code",
      "source": [
        "f_gravity()"
      ],
      "metadata": {
        "colab": {
          "base_uri": "https://localhost:8080/"
        },
        "id": "cGRGTX2yOCN5",
        "outputId": "0864286a-7cb8-4608-a5f5-718afbe88890"
      },
      "execution_count": 214,
      "outputs": [
        {
          "output_type": "stream",
          "name": "stdout",
          "text": [
            "Einstein gravity\n"
          ]
        }
      ]
    },
    {
      "cell_type": "code",
      "source": [
        "print(g)"
      ],
      "metadata": {
        "colab": {
          "base_uri": "https://localhost:8080/"
        },
        "id": "0FvtNSjYOD30",
        "outputId": "2476bb5f-d988-4d5a-f221-77e023e67f54"
      },
      "execution_count": 215,
      "outputs": [
        {
          "output_type": "stream",
          "name": "stdout",
          "text": [
            "Einstein gravity\n"
          ]
        }
      ]
    },
    {
      "cell_type": "code",
      "source": [
        "#globals()\n",
        "#locals()"
      ],
      "metadata": {
        "id": "gxfF3n8LODEz"
      },
      "execution_count": 218,
      "outputs": []
    },
    {
      "cell_type": "code",
      "source": [],
      "metadata": {
        "id": "1Z_DPh1_OKQF"
      },
      "execution_count": null,
      "outputs": []
    }
  ]
}