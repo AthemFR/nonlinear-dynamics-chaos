{
 "cells": [
  {
   "cell_type": "markdown",
   "id": "1b698901-792f-43b7-9d2b-390921be3101",
   "metadata": {},
   "source": [
    "# Homework 1\n",
    "\n",
    "### Deadline: Wednesday 15 October 2025 (by 9pm)\n",
    "\n",
    "### Credits: 25 points"
   ]
  },
  {
   "cell_type": "markdown",
   "id": "8ce9cb71-ec5d-42c9-969d-dfdcfae5f7f0",
   "metadata": {},
   "source": [
    "## Name: "
   ]
  },
  {
   "cell_type": "markdown",
   "id": "65c7f90f-671f-49f7-b4e3-f49809345036",
   "metadata": {},
   "source": [
    "- When you finish, please submit your notebook via the link provided: https://forms.gle/GkjNDrF8y7dpbYph6\n",
    "\n",
    "- This homework is individual. Please include your name in the notebook.\n",
    "\n",
    "- Within a **single python notebook**, solve the following problems:"
   ]
  },
  {
   "cell_type": "markdown",
   "id": "2f295cc5-479b-4ff3-bbcf-e8ac87fb38b2",
   "metadata": {},
   "source": [
    "# Problem 1 (5 points): Third-order Runge-Kutta (RK3) method\n",
    "\n",
    "Create your own general-purpose, third-order Runge-Kutta (RK3) method to numerically solve any 1D ODEs. To achieve this:\n",
    "\n",
    "a) **Workflow diagram**:\n",
    "\n",
    "- Use your favourite workflow editor to design and show a suitable workflow diagram for your RK3 integrator. Submit your workflow diagram in PDF format using the link provided.\n",
    "\n",
    "b) **General-purpose RK3 Class**:\n",
    "\n",
    "- Use Python classes to implement your own third-order Runge-Kutta (RK3) method to numerically solve 1D ODEs. Hint: the constructor should take the ODE's slope as an argument."
   ]
  },
  {
   "cell_type": "markdown",
   "id": "100a6286-a4f9-4d55-b524-45e953463f8e",
   "metadata": {},
   "source": [
    "# Problem 2 (10 points): An Electrochemical Reaction Model\n",
    "\n",
    "The concentration $x$ (a dimensionless quantity, $x \\ge 0$) follows the dynamics given by the 1D autonomous ODE:\n",
    "\n",
    "$$\n",
    "\\frac{dx}{dt} = a - x^2\n",
    "$$\n",
    "\n",
    "The parameter $a$ represents an external factor and is the bifurcation parameter ($a > 0$).\n",
    "\n",
    "## Tasks\n",
    "\n",
    "a) **Fixed Points:**\n",
    "\n",
    "- Find the fixed points $x^*$ for $x \\ge 0$ as a function of $a$.\n",
    "\n",
    "b) **Bifurcation:**\n",
    "\n",
    "- Determine the critical value $a_c$ at which a bifurcation occurs and describe the type of bifurcation that happens at $x=0$.\n",
    "\n",
    "c) **Potential Function:**\n",
    "\n",
    "- For this gradient system, use SymPy to find the potential function $V(x)$ such that $\\frac{dx}{dt} = -V'(x)$.\n",
    "\n",
    "- Use Python to sketch $V(x)$ for $a > a_c$ and $a < a_c$.\n",
    "\n",
    "d) **Phase Maps and Stability:**\n",
    "\n",
    "- Use Python to sketch the flow ($\\frac{dx}{dt}$ vs. $x$) for a value of $a$ above $a_c$ and for a value of $a$ below $a_c$.\n",
    " \n",
    "- Determine the stability of the fixed point(s) using linearisation and show the vector field (flow direction) on the $x$-axis.\n",
    "\n",
    "e) **Bifurcation Diagram:**\n",
    "\n",
    "- Use Python to sketch the $x^*$ vs. $a$ bifurcation diagram, indicating stable/unstable branches.\n",
    "\n",
    "f) **Analytical Solution:** \n",
    "\n",
    "- Using SymPy, find the analytical solution $x(t)$ using a generic parameter $a$.\n",
    "\n",
    "g)  **Numerical Solution:** \n",
    "\n",
    "- Use your own third-order Runge-Kuta integrator (designed in problem 1) to simulate the evolution of the system for at least 3 different values of $a$ (two above $a_c$ and one at $a_c$). You cannot use SciPy integrators for this problem.\n",
    "\n",
    "- Plot the resulting $x(t)$ for the above initial conditions, verifying your stability analysis.\n"
   ]
  },
  {
   "cell_type": "markdown",
   "id": "f718db46-4c0e-4fe0-aebc-2c4ca8f9ba76",
   "metadata": {},
   "source": [
    "# Problem 3 (10 points): The Logistic Growth Model with Harvesting\n",
    "\n",
    "The population $N(t)$ of a species (measured in thousands of individuals) is governed by the following 1D autonomous ODE:\n",
    "\n",
    "$$\n",
    "\\frac{dN}{dt} = rN \\left(1 - \\frac{N}{K}\\right) - H\n",
    "$$\n",
    "\n",
    "where $r$ is the intrinsic growth rate ($r > 0$), $K$ is the carrying capacity ($K > 0$, also measured in thousands of individuals), and $H$ is the constant harvesting rate ($H \\ge 0$). Harvesting could represent fishing or hunting. For this problem, assume fixed parameters $r = 1$ and $K = 10$. The harvesting rate $H$ will be the bifurcation parameter.\n",
    "\n",
    "## Tasks:\n",
    "\n",
    "a)  **Fixed Points:**\n",
    "\n",
    "- Find the fixed points $N^*$ of the system as a function of the harvesting parameter $H$. What do these points represent?\n",
    "\n",
    "b)  **Bifurcation Point:**\n",
    "\n",
    "- Determine the critical value $H_c$ at which a bifurcation occurs.\n",
    "\n",
    "- Describe the type of bifurcation that happens at $H_c$.\n",
    "\n",
    "c)  **Phase Map & Vector Field:**\n",
    "\n",
    "- Use Python to sketch the phase map for a value of $H$ below $H_c$ and for a value of $H$ above $H_c$. On these maps, indicate the fixed points and show the vector field (i.e. the direction of flow $\\frac{dN}{dt}$).\n",
    "\n",
    "- Classify the stability of the fixed points.\n",
    "\n",
    "d)  **Long-Term Solutions:**\n",
    "\n",
    "- Based on your analysis, describe the long-term fate of the population $N(t)$ if $H$ is slightly below $H_c$. Specifically, what happens if the initial population $N(0)$ is very small versus if it is large?\n",
    "    \n",
    "- What happens to the population if $H$ is slightly above $H_c$? Explain this from a biological perspective.\n",
    "    \n",
    "e)  **Analytical Solution:**\n",
    "\n",
    "- Using SymPy, find the analytical solution $N(t)$ for the ODE.\n",
    "\n",
    "f)  **Numerical Solution:** \n",
    "\n",
    "- Use your own third-order Runge-Kuta integrator (designed in problem 1) to simulate $N(t)$ for $H$ both below and above $H_c$ for several initial conditions. You cannot use SciPy integrators for this problem.\n",
    "\n",
    "- Plot $N(t)$ for several initial conditions, verifying your stability and long-term analysis."
   ]
  }
 ],
 "metadata": {
  "kernelspec": {
   "display_name": "Python 3 (ipykernel)",
   "language": "python",
   "name": "python3"
  },
  "language_info": {
   "codemirror_mode": {
    "name": "ipython",
    "version": 3
   },
   "file_extension": ".py",
   "mimetype": "text/x-python",
   "name": "python",
   "nbconvert_exporter": "python",
   "pygments_lexer": "ipython3",
   "version": "3.11.11"
  }
 },
 "nbformat": 4,
 "nbformat_minor": 5
}
